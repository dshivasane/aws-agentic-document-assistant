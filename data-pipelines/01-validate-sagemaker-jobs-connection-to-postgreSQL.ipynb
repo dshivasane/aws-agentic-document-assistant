{
 "cells": [
  {
   "cell_type": "markdown",
   "id": "6d5d30fd-bfb6-41c5-9cac-da6cc15a9783",
   "metadata": {
    "tags": []
   },
   "source": [
    "# 01 - Validate that a SageMaker job can connect to RDS PostgreSQL database (Cost Optimized)"
   ]
  },
  {
   "cell_type": "code",
   "execution_count": 1,
   "id": "f92ebff0-c990-4d84-86e8-98225d2a9e6a",
   "metadata": {
    "tags": []
   },
   "outputs": [
    {
     "name": "stdout",
     "output_type": "stream",
     "text": [
      "Note: you may need to restart the kernel to use updated packages.\n",
      "Note: you may need to restart the kernel to use updated packages.\n"
     ]
    }
   ],
   "source": [
    "%pip install -q psycopg2-binary 2> /dev/null\n",
    "%pip install -q flake8 2> /dev/null"
   ]
  },
  {
   "cell_type": "code",
   "execution_count": 2,
   "id": "79bc6931-bd74-4f63-a232-ee98435bddf5",
   "metadata": {
    "tags": []
   },
   "outputs": [],
   "source": [
    "import json\n",
    "import os\n",
    "\n",
    "import boto3\n",
    "import psycopg2"
   ]
  },
  {
   "cell_type": "code",
   "execution_count": 3,
   "id": "97b9818c-c53b-41d6-a26c-674246f3e7fe",
   "metadata": {
    "tags": []
   },
   "outputs": [],
   "source": [
    "ssm = boto3.client(\"ssm\")\n",
    "secretsmanager = boto3.client(\"secretsmanager\")\n",
    "region = boto3.session.Session().region_name"
   ]
  },
  {
   "cell_type": "code",
   "execution_count": 4,
   "id": "1a0f6dc3-ee25-4ace-bd24-7fb9fa066501",
   "metadata": {
    "tags": []
   },
   "outputs": [],
   "source": [
    "security_group_parameter = \"/AgenticLLMAssistant/SMProcessingJobSecurityGroupId\"\n",
    "dbsecret_arn_parameter = \"/AgenticLLMAssistant/DBSecretARN\"\n",
    "subnet_ids_parameter = \"/AgenticLLMAssistant/SubnetIds\"\n",
    "\n",
    "security_group = ssm.get_parameter(Name=security_group_parameter)\n",
    "security_group = security_group[\"Parameter\"][\"Value\"]\n",
    "\n",
    "db_secret_arn = ssm.get_parameter(Name=dbsecret_arn_parameter)\n",
    "db_secret_arn = db_secret_arn[\"Parameter\"][\"Value\"]\n",
    "\n",
    "subnet_ids = ssm.get_parameter(Name=subnet_ids_parameter)\n",
    "# Updated for cost optimization: using public subnets instead of private with NAT Gateway\n",
    "public_subnets_ids = json.loads(subnet_ids[\"Parameter\"][\"Value\"])"
   ]
  },
  {
   "cell_type": "code",
   "execution_count": 5,
   "id": "85faecfe-85b8-419b-8194-cdcb57657e3a",
   "metadata": {
    "tags": []
   },
   "outputs": [],
   "source": [
    "!mkdir -p scripts"
   ]
  },
  {
   "cell_type": "code",
   "execution_count": 6,
   "id": "cfeb17ac-6115-4458-853c-d89c2bc13742",
   "metadata": {
    "tags": []
   },
   "outputs": [
    {
     "name": "stdout",
     "output_type": "stream",
     "text": [
      "Writing scripts/check_connection_to_aurora_postgres.py\n"
     ]
    }
   ],
   "source": [
    "%%writefile scripts/check_connection_to_aurora_postgres.py\n",
    "import json\n",
    "import os\n",
    "\n",
    "import boto3\n",
    "import psycopg2\n",
    "\n",
    "secretsmanager = boto3.client(\"secretsmanager\")\n",
    "\n",
    "secret_response = secretsmanager.get_secret_value(\n",
    "    SecretId=os.environ[\"SQL_DB_SECRET_ID\"]\n",
    ")\n",
    "\n",
    "database_secrets = json.loads(secret_response[\"SecretString\"])\n",
    "\n",
    "# Extract credentials\n",
    "host = database_secrets['host']\n",
    "dbname = database_secrets['dbname']\n",
    "username = database_secrets['username']\n",
    "password = database_secrets['password']\n",
    "\n",
    "\n",
    "def test_db_connection():\n",
    "    # Connect to the database\n",
    "    conn = psycopg2.connect(\n",
    "        host=host,\n",
    "        database=dbname,\n",
    "        user=username,\n",
    "        password=password\n",
    "    )\n",
    "    # Get cursor\n",
    "    cur = conn.cursor()\n",
    "\n",
    "    # Query to get all tables\n",
    "    cur.execute(\"SELECT table_name FROM information_schema.tables WHERE table_schema='public';\")\n",
    "\n",
    "    # Fetch all the tables\n",
    "    tables = cur.fetchall()\n",
    "\n",
    "    # Print the table names\n",
    "    print(f\"SQL tables: {tables}\")\n",
    "\n",
    "    # Close connection\n",
    "    conn.close()\n",
    "\n",
    "\n",
    "if __name__ == \"__main__\":\n",
    "    test_db_connection()"
   ]
  },
  {
   "cell_type": "code",
   "execution_count": 7,
   "id": "801aefc4-9585-44bf-8de9-5aa1a9199d08",
   "metadata": {
    "tags": []
   },
   "outputs": [],
   "source": [
    "!flake8 --ignore=E501 scripts/check_connection_to_aurora_postgres.py"
   ]
  },
  {
   "cell_type": "markdown",
   "id": "dcb8bed1-bef3-4fd7-84b7-29dd4b418362",
   "metadata": {},
   "source": [
    "## Attempt the same in a SageMaker processing job with VPC network config"
   ]
  },
  {
   "cell_type": "code",
   "execution_count": 8,
   "id": "6a706888-6e4e-410c-8703-82432d73c0e6",
   "metadata": {
    "tags": []
   },
   "outputs": [
    {
     "name": "stdout",
     "output_type": "stream",
     "text": [
      "sagemaker.config INFO - Not applying SDK defaults from location: /etc/xdg/sagemaker/config.yaml\n",
      "sagemaker.config INFO - Not applying SDK defaults from location: /home/sagemaker-user/.config/sagemaker/config.yaml\n"
     ]
    }
   ],
   "source": [
    "from sagemaker.network import NetworkConfig\n",
    "\n",
    "# Note if you enable network isolation, with enable_network_isolation=True\n",
    "# the pip installation of the dependencies\n",
    "# under scripts/requirements.txt won't work.\n",
    "# Cost optimization: using public subnets to avoid NAT Gateway costs\n",
    "current_network_config = NetworkConfig(\n",
    "    subnets=public_subnets_ids, security_group_ids=[security_group]\n",
    ")"
   ]
  },
  {
   "cell_type": "code",
   "execution_count": 9,
   "id": "297e03f1-96a2-4af6-9196-75b2a5c7a903",
   "metadata": {
    "tags": []
   },
   "outputs": [],
   "source": [
    "%%time\n",
    "from sagemaker.xgboost import XGBoostProcessor\n",
    "from sagemaker.processing import ProcessingInput, ProcessingOutput\n",
    "from sagemaker import get_execution_role\n",
    "\n",
    "# Initialize the XGBoostProcessor\n",
    "xgb = XGBoostProcessor(\n",
    "    framework_version=\"1.7-1\",\n",
    "    role=get_execution_role(),\n",
    "    instance_type=\"ml.t3.medium\",  # Cost optimized: using cheaper t3.medium instead of m5.large\n",
    "    instance_count=1,\n",
    "    base_job_name=\"frameworkprocessor-XGB\",\n",
    "    env={\"SQL_DB_SECRET_ID\": db_secret_arn, \"AWS_DEFAULT_REGION\": region},\n",
    "    network_config=current_network_config,\n",
    ")\n",
    "\n",
    "# Run the processing job\n",
    "xgb.run(code=\"check_connection_to_aurora_postgres.py\", source_dir=\"scripts\")"
   ]
  }
 ],
 "metadata": {
  "instance_type": "ml.m5.large",
  "kernelspec": {
   "display_name": "Python 3 (ipykernel)",
   "language": "python",
   "name": "python3"
  },
  "language_info": {
   "codemirror_mode": {
    "name": "ipython",
    "version": 3
   },
   "file_extension": ".py",
   "mimetype": "text/x-python",
   "name": "python",
   "nbconvert_exporter": "python",
   "pygments_lexer": "ipython3",
   "version": "3.10.13"
  }
 },
 "nbformat": 4,
 "nbformat_minor": 5
}