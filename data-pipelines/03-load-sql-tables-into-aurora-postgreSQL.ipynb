{
 "cells": [
  {
   "cell_type": "markdown",
   "id": "6d5d30fd-bfb6-41c5-9cac-da6cc15a9783",
   "metadata": {
    "tags": []
   },
   "source": [
    "# 03 - Load sql tables into RDS PostgreSQL DB (Cost Optimized)"
   ]
  },
  {
   "cell_type": "code",
   "execution_count": 2,
   "id": "f92ebff0-c990-4d84-86e8-98225d2a9e6a",
   "metadata": {
    "tags": []
   },
   "outputs": [
    {
     "name": "stdout",
     "output_type": "stream",
     "text": [
      "\u001b[33mWARNING: Running pip as the 'root' user can result in broken permissions and conflicting behaviour with the system package manager. It is recommended to use a virtual environment instead: https://pip.pypa.io/warnings/venv\u001b[0m\u001b[33m\n",
      "\u001b[0mNote: you may need to restart the kernel to use updated packages.\n"
     ]
    }
   ],
   "source": [
    "%pip install -q flake8 2> /dev/null"
   ]
  },
  {
   "cell_type": "code",
   "execution_count": 3,
   "id": "79bc6931-bd74-4f63-a232-ee98435bddf5",
   "metadata": {
    "tags": []
   },
   "outputs": [],
   "source": [
    "import json\n",
    "import os\n",
    "\n",
    "import boto3"
   ]
  },
  {
   "cell_type": "code",
   "execution_count": 4,
   "id": "97b9818c-c53b-41d6-a26c-674246f3e7fe",
   "metadata": {
    "tags": []
   },
   "outputs": [],
   "source": [
    "ssm = boto3.client(\"ssm\")\n",
    "secretsmanager = boto3.client(\"secretsmanager\")\n",
    "region = boto3.session.Session().region_name"
   ]
  },
  {
   "cell_type": "code",
   "execution_count": 5,
   "id": "1a0f6dc3-ee25-4ace-bd24-7fb9fa066501",
   "metadata": {
    "tags": []
   },
   "outputs": [],
   "source": [
    "security_group_parameter = \"/AgenticLLMAssistant/SMProcessingJobSecurityGroupId\"\n",
    "dbsecret_arn_parameter = \"/AgenticLLMAssistant/DBSecretARN\"\n",
    "subnet_ids_parameter = \"/AgenticLLMAssistant/SubnetIds\"\n",
    "s3_bucket_name_parameter = \"/AgenticLLMAssistant/AgentDataBucketParameter\"\n",
    "\n",
    "security_group = ssm.get_parameter(Name=security_group_parameter)\n",
    "security_group = security_group[\"Parameter\"][\"Value\"]\n",
    "\n",
    "db_secret_arn = ssm.get_parameter(Name=dbsecret_arn_parameter)\n",
    "db_secret_arn = db_secret_arn[\"Parameter\"][\"Value\"]\n",
    "\n",
    "subnet_ids = ssm.get_parameter(Name=subnet_ids_parameter)\n",
    "# Updated for cost optimization: using public subnets instead of private with NAT Gateway\n",
    "public_subnets_ids = json.loads(subnet_ids[\"Parameter\"][\"Value\"])\n",
    "\n",
    "s3_bucket_name = ssm.get_parameter(Name=s3_bucket_name_parameter)\n",
    "s3_bucket_name = s3_bucket_name[\"Parameter\"][\"Value\"]"
   ]
  },
  {
   "cell_type": "code",
   "execution_count": 6,
   "id": "42dac5f7-97f4-4f4f-9869-9e7b68a23e5b",
   "metadata": {},
   "outputs": [],
   "source": [
    "sql_tables_s3_key = \"structured_metadata\""
   ]
  },
  {
   "cell_type": "code",
   "execution_count": 7,
   "id": "85faecfe-85b8-419b-8194-cdcb57657e3a",
   "metadata": {
    "tags": []
   },
   "outputs": [],
   "source": [
    "!mkdir -p scripts"
   ]
  },
  {
   "cell_type": "code",
   "execution_count": 8,
   "id": "cfeb17ac-6115-4458-853c-d89c2bc13742",
   "metadata": {
    "tags": []
   },
   "outputs": [
    {
     "name": "stdout",
     "output_type": "stream",
     "text": [
      "Writing scripts/load_sql_tables.py\n"
     ]
    }
   ],
   "source": [
    "%%writefile scripts/load_sql_tables.py\n",
    "import json\n",
    "import os\n",
    "\n",
    "import boto3\n",
    "import dask.dataframe as dd\n",
    "import psycopg2\n",
    "import sqlalchemy\n",
    "\n",
    "secretsmanager = boto3.client(\"secretsmanager\")\n",
    "\n",
    "secret_response = secretsmanager.get_secret_value(\n",
    "    SecretId=os.environ[\"SQL_DB_SECRET_ID\"]\n",
    ")\n",
    "\n",
    "database_secrets = json.loads(secret_response[\"SecretString\"])\n",
    "\n",
    "# Extract credentials\n",
    "host = database_secrets['host']\n",
    "dbname = database_secrets['dbname']\n",
    "username = database_secrets['username']\n",
    "password = database_secrets['password']\n",
    "port = database_secrets[\"port\"]\n",
    "\n",
    "db_connection = psycopg2.connect(\n",
    "    host=host,\n",
    "    port=port,\n",
    "    database=dbname,\n",
    "    user=username,\n",
    "    password=password,\n",
    ")\n",
    "\n",
    "\n",
    "def activate_vector_extension(db_connection):\n",
    "    \"\"\"Activate PGVector extension.\"\"\"\n",
    "\n",
    "    db_connection.autocommit = True\n",
    "    cursor = db_connection.cursor()\n",
    "    # install pgvector\n",
    "    cursor.execute(\"CREATE EXTENSION IF NOT EXISTS vector;\")\n",
    "    db_connection.close()\n",
    "\n",
    "\n",
    "def test_db_connection():\n",
    "    # Connect to the database\n",
    "    conn = psycopg2.connect(\n",
    "        host=host,\n",
    "        database=dbname,\n",
    "        user=username,\n",
    "        password=password\n",
    "    )\n",
    "    # Get cursor\n",
    "    cur = conn.cursor()\n",
    "\n",
    "    # Query to get all tables\n",
    "    cur.execute(\"SELECT table_name FROM information_schema.tables WHERE table_schema='public';\")\n",
    "\n",
    "    # Fetch all the tables\n",
    "    tables = cur.fetchall()\n",
    "\n",
    "    # Print the table names\n",
    "    print(f\"SQL tables: {tables}\")\n",
    "\n",
    "    # Close connection\n",
    "    conn.close()\n",
    "\n",
    "\n",
    "def load_sql_tables(raw_tables_base_path, raw_tables_data_paths, columns_to_load, engine):\n",
    "    \"\"\"Load csv files as SQL tables into an Amazon Aurora PostgreSQL DB.\n",
    "\n",
    "    Note:\n",
    "        raw_tables_data_paths (List, str): a list of strings, each string\n",
    "        can be a csv file, or a folder that contains a partitioned csv file.\n",
    "    \"\"\"\n",
    "\n",
    "    for raw_table_path in raw_tables_data_paths:\n",
    "        data_loading_path = os.path.join(\n",
    "            raw_tables_base_path,\n",
    "            raw_table_path\n",
    "        )\n",
    "\n",
    "        if os.path.isdir(data_loading_path):\n",
    "            data_loading_path = os.path.join(data_loading_path, \"*\")\n",
    "            table_name = raw_table_path\n",
    "        else:\n",
    "            table_name = raw_table_path.split(\".\")[0]\n",
    "\n",
    "        print(f\"Loading {table_name} data into a pandas dataframe\")\n",
    "        current_data_df = dd.read_csv(data_loading_path).compute()\n",
    "        if columns_to_load == \"all\":\n",
    "            columns_to_load = current_data_df.columns\n",
    "\n",
    "        current_data_df = current_data_df[columns_to_load]\n",
    "\n",
    "        current_data_df.to_sql(\n",
    "            table_name, engine, if_exists='replace', index=False\n",
    "        )\n",
    "\n",
    "    return True\n",
    "\n",
    "\n",
    "if __name__ == \"__main__\":\n",
    "    test_db_connection()\n",
    "\n",
    "    url_object = sqlalchemy.URL.create(\n",
    "        \"postgresql+psycopg2\",\n",
    "        username=username,\n",
    "        password=password,\n",
    "        host=host,\n",
    "        database=dbname,\n",
    "    )\n",
    "\n",
    "    db_engine = sqlalchemy.create_engine(url_object)\n",
    "\n",
    "    input_data_base_path = \"/opt/ml/processing/input/\"\n",
    "    raw_sql_tables_base_path = os.path.join(input_data_base_path, \"sqltables\")\n",
    "    tables_raw_data_paths = os.listdir(raw_sql_tables_base_path)\n",
    "    columns_to_load = \"all\"\n",
    "\n",
    "    print(raw_sql_tables_base_path, tables_raw_data_paths)\n",
    "    load_sql_tables(\n",
    "        raw_sql_tables_base_path,\n",
    "        tables_raw_data_paths,\n",
    "        columns_to_load,\n",
    "        db_engine\n",
    "    )\n",
    "\n",
    "    test_db_connection()\n"
   ]
  },
  {
   "cell_type": "code",
   "execution_count": 9,
   "id": "801aefc4-9585-44bf-8de9-5aa1a9199d08",
   "metadata": {
    "tags": []
   },
   "outputs": [],
   "source": [
    "!flake8 --ignore=E501 scripts/load_sql_tables.py"
   ]
  },
  {
   "cell_type": "markdown",
   "id": "dcb8bed1-bef3-4fd7-84b7-29dd4b418362",
   "metadata": {},
   "source": [
    "## Attempt the same in a SageMaker processing job with VPC network config"
   ]
  },
  {
   "cell_type": "code",
   "execution_count": 10,
   "id": "6a706888-6e4e-410c-8703-82432d73c0e6",
   "metadata": {
    "tags": []
   },
   "outputs": [
    {
     "name": "stdout",
     "output_type": "stream",
     "text": [
      "sagemaker.config INFO - Not applying SDK defaults from location: /etc/xdg/sagemaker/config.yaml\n",
      "sagemaker.config INFO - Not applying SDK defaults from location: /root/.config/sagemaker/config.yaml\n"
     ]
    }
   ],
   "source": [
    "from sagemaker.network import NetworkConfig\n",
    "\n",
    "# Note if you enable network isolation, with enable_network_isolation=True\n",
    "# the pip installation of the dependencies\n",
    "# under scripts/requirements.txt won't work.\n",
    "# Cost optimization: using public subnets to avoid NAT Gateway costs\n",
    "current_network_config = NetworkConfig(\n",
    "    subnets=public_subnets_ids, security_group_ids=[security_group]\n",
    ")""
   ]
  },
  {
   "cell_type": "code",
   "execution_count": 11,
   "id": "297e03f1-96a2-4af6-9196-75b2a5c7a903",
   "metadata": {
    "tags": []
   },
   "outputs": [
    {
     "name": "stdout",
     "output_type": "stream",
     "text": [
      "sagemaker.config INFO - Not applying SDK defaults from location: /etc/xdg/sagemaker/config.yaml\n",
      "sagemaker.config INFO - Not applying SDK defaults from location: /root/.config/sagemaker/config.yaml\n",
      "sagemaker.config INFO - Not applying SDK defaults from location: /etc/xdg/sagemaker/config.yaml\n",
      "sagemaker.config INFO - Not applying SDK defaults from location: /root/.config/sagemaker/config.yaml\n"
     ]
    },
    {
     "name": "stderr",
     "output_type": "stream",
     "text": [
      "INFO:sagemaker:Creating processing-job with name frameworkprocessor-XGB-2023-10-02-14-11-56-009\n"
     ]
    },
    {
     "name": "stdout",
     "output_type": "stream",
     "text": [
      "Using provided s3_resource\n",
      "..........................\u001b[34mWARNING: Skipping typing as it is not installed.\u001b[0m\n",
      "\u001b[34mWARNING: Running pip as the 'root' user can result in broken permissions and conflicting behaviour with the system package manager. It is recommended to use a virtual environment instead: https://pip.pypa.io/warnings/venv\u001b[0m\n",
      "\u001b[34mCollecting pandas==2.0.3 (from -r requirements.txt (line 1))\n",
      "  Obtaining dependency information for pandas==2.0.3 from https://files.pythonhosted.org/packages/f8/7f/5b047effafbdd34e52c9e2d7e44f729a0655efafb22198c45cf692cdc157/pandas-2.0.3-cp38-cp38-manylinux_2_17_x86_64.manylinux2014_x86_64.whl.metadata\n",
      "  Downloading pandas-2.0.3-cp38-cp38-manylinux_2_17_x86_64.manylinux2014_x86_64.whl.metadata (18 kB)\u001b[0m\n",
      "\u001b[34mCollecting dask==2023.5.0 (from -r requirements.txt (line 2))\n",
      "  Obtaining dependency information for dask==2023.5.0 from https://files.pythonhosted.org/packages/07/93/32d3e317fec6d0fc130284f922ad9bd13d9ae0d52245e6ff6e57647e924c/dask-2023.5.0-py3-none-any.whl.metadata\n",
      "  Downloading dask-2023.5.0-py3-none-any.whl.metadata (3.6 kB)\u001b[0m\n",
      "\u001b[34mCollecting psycopg2-binary (from -r requirements.txt (line 3))\n",
      "  Obtaining dependency information for psycopg2-binary from https://files.pythonhosted.org/packages/0f/ff/df058f6904693e2a76da8809e89f3b4ca23fac9929de7b385184f4c161ed/psycopg2_binary-2.9.8-cp38-cp38-manylinux_2_17_x86_64.manylinux2014_x86_64.whl.metadata\n",
      "  Downloading psycopg2_binary-2.9.8-cp38-cp38-manylinux_2_17_x86_64.manylinux2014_x86_64.whl.metadata (4.4 kB)\u001b[0m\n",
      "\u001b[34mCollecting SQLAlchemy (from -r requirements.txt (line 4))\n",
      "  Obtaining dependency information for SQLAlchemy from https://files.pythonhosted.org/packages/7c/70/5a36e9dd9bb62dca4d07d811c993eadd432769f541ea91c851f41f9d5ee8/SQLAlchemy-2.0.21-cp38-cp38-manylinux_2_17_x86_64.manylinux2014_x86_64.whl.metadata\n",
      "  Downloading SQLAlchemy-2.0.21-cp38-cp38-manylinux_2_17_x86_64.manylinux2014_x86_64.whl.metadata (9.4 kB)\u001b[0m\n",
      "\u001b[34mCollecting pgvector (from -r requirements.txt (line 6))\n",
      "  Obtaining dependency information for pgvector from https://files.pythonhosted.org/packages/fd/8c/4b469fdc27cf8538024d68b8aa40da7ebf86690f4d7f93eb118bdea174e7/pgvector-0.2.3-py2.py3-none-any.whl.metadata\n",
      "  Downloading pgvector-0.2.3-py2.py3-none-any.whl.metadata (8.4 kB)\u001b[0m\n",
      "\u001b[34mCollecting python-dateutil>=2.8.2 (from pandas==2.0.3->-r requirements.txt (line 1))\n",
      "  Downloading python_dateutil-2.8.2-py2.py3-none-any.whl (247 kB)\n",
      "     ━━━━━━━━━━━━━━━━━━━━━━━━━━━━━━━━━━━━━━ 247.7/247.7 kB 29.7 MB/s eta 0:00:00\u001b[0m\n",
      "\u001b[34mRequirement already satisfied: pytz>=2020.1 in /miniconda3/lib/python3.8/site-packages (from pandas==2.0.3->-r requirements.txt (line 1)) (2023.3)\u001b[0m\n",
      "\u001b[34mCollecting tzdata>=2022.1 (from pandas==2.0.3->-r requirements.txt (line 1))\n",
      "  Downloading tzdata-2023.3-py2.py3-none-any.whl (341 kB)\n",
      "     ━━━━━━━━━━━━━━━━━━━━━━━━━━━━━━━━━━━━━━ 341.8/341.8 kB 31.7 MB/s eta 0:00:00\u001b[0m\n",
      "\u001b[34mCollecting numpy>=1.20.3 (from pandas==2.0.3->-r requirements.txt (line 1))\n",
      "  Obtaining dependency information for numpy>=1.20.3 from https://files.pythonhosted.org/packages/98/5d/5738903efe0ecb73e51eb44feafba32bdba2081263d40c5043568ff60faf/numpy-1.24.4-cp38-cp38-manylinux_2_17_x86_64.manylinux2014_x86_64.whl.metadata\n",
      "  Downloading numpy-1.24.4-cp38-cp38-manylinux_2_17_x86_64.manylinux2014_x86_64.whl.metadata (5.6 kB)\u001b[0m\n",
      "\u001b[34mRequirement already satisfied: click>=8.0 in /miniconda3/lib/python3.8/site-packages (from dask==2023.5.0->-r requirements.txt (line 2)) (8.1.7)\u001b[0m\n",
      "\u001b[34mRequirement already satisfied: cloudpickle>=1.5.0 in /miniconda3/lib/python3.8/site-packages (from dask==2023.5.0->-r requirements.txt (line 2)) (2.2.1)\u001b[0m\n",
      "\u001b[34mRequirement already satisfied: fsspec>=2021.09.0 in /miniconda3/lib/python3.8/site-packages (from dask==2023.5.0->-r requirements.txt (line 2)) (2023.6.0)\u001b[0m\n",
      "\u001b[34mRequirement already satisfied: packaging>=20.0 in /miniconda3/lib/python3.8/site-packages (from dask==2023.5.0->-r requirements.txt (line 2)) (23.1)\u001b[0m\n",
      "\u001b[34mRequirement already satisfied: partd>=1.2.0 in /miniconda3/lib/python3.8/site-packages (from dask==2023.5.0->-r requirements.txt (line 2)) (1.4.0)\u001b[0m\n",
      "\u001b[34mRequirement already satisfied: pyyaml>=5.3.1 in /miniconda3/lib/python3.8/site-packages (from dask==2023.5.0->-r requirements.txt (line 2)) (5.4.1)\u001b[0m\n",
      "\u001b[34mRequirement already satisfied: toolz>=0.10.0 in /miniconda3/lib/python3.8/site-packages (from dask==2023.5.0->-r requirements.txt (line 2)) (0.12.0)\u001b[0m\n",
      "\u001b[34mRequirement already satisfied: importlib-metadata>=4.13.0 in /miniconda3/lib/python3.8/site-packages (from dask==2023.5.0->-r requirements.txt (line 2)) (6.8.0)\u001b[0m\n",
      "\u001b[34mCollecting typing-extensions>=4.2.0 (from SQLAlchemy->-r requirements.txt (line 4))\n",
      "  Obtaining dependency information for typing-extensions>=4.2.0 from https://files.pythonhosted.org/packages/24/21/7d397a4b7934ff4028987914ac1044d3b7d52712f30e2ac7a2ae5bc86dd0/typing_extensions-4.8.0-py3-none-any.whl.metadata\n",
      "  Downloading typing_extensions-4.8.0-py3-none-any.whl.metadata (3.0 kB)\u001b[0m\n",
      "\u001b[34mRequirement already satisfied: greenlet!=0.4.17 in /miniconda3/lib/python3.8/site-packages (from SQLAlchemy->-r requirements.txt (line 4)) (2.0.2)\u001b[0m\n",
      "\u001b[34mRequirement already satisfied: zipp>=0.5 in /miniconda3/lib/python3.8/site-packages (from importlib-metadata>=4.13.0->dask==2023.5.0->-r requirements.txt (line 2)) (3.16.2)\u001b[0m\n",
      "\u001b[34mRequirement already satisfied: locket in /miniconda3/lib/python3.8/site-packages (from partd>=1.2.0->dask==2023.5.0->-r requirements.txt (line 2)) (1.0.0)\u001b[0m\n",
      "\u001b[34mRequirement already satisfied: six>=1.5 in /miniconda3/lib/python3.8/site-packages (from python-dateutil>=2.8.2->pandas==2.0.3->-r requirements.txt (line 1)) (1.16.0)\u001b[0m\n",
      "\u001b[34mDownloading pandas-2.0.3-cp38-cp38-manylinux_2_17_x86_64.manylinux2014_x86_64.whl (12.4 MB)\n",
      "   ━━━━━━━━━━━━━━━━━━━━━━━━━━━━━━━━━━━━━━━━ 12.4/12.4 MB 90.2 MB/s eta 0:00:00\u001b[0m\n",
      "\u001b[34mDownloading dask-2023.5.0-py3-none-any.whl (1.2 MB)\n",
      "   ━━━━━━━━━━━━━━━━━━━━━━━━━━━━━━━━━━━━━━━━ 1.2/1.2 MB 78.6 MB/s eta 0:00:00\u001b[0m\n",
      "\u001b[34mDownloading psycopg2_binary-2.9.8-cp38-cp38-manylinux_2_17_x86_64.manylinux2014_x86_64.whl (3.0 MB)\n",
      "   ━━━━━━━━━━━━━━━━━━━━━━━━━━━━━━━━━━━━━━━━ 3.0/3.0 MB 94.6 MB/s eta 0:00:00\u001b[0m\n",
      "\u001b[34mDownloading SQLAlchemy-2.0.21-cp38-cp38-manylinux_2_17_x86_64.manylinux2014_x86_64.whl (3.0 MB)\n",
      "   ━━━━━━━━━━━━━━━━━━━━━━━━━━━━━━━━━━━━━━━━ 3.0/3.0 MB 101.0 MB/s eta 0:00:00\u001b[0m\n",
      "\u001b[34mDownloading pgvector-0.2.3-py2.py3-none-any.whl (9.3 kB)\u001b[0m\n",
      "\u001b[34mDownloading numpy-1.24.4-cp38-cp38-manylinux_2_17_x86_64.manylinux2014_x86_64.whl (17.3 MB)\n",
      "   ━━━━━━━━━━━━━━━━━━━━━━━━━━━━━━━━━━━━━━━━ 17.3/17.3 MB 74.7 MB/s eta 0:00:00\u001b[0m\n",
      "\u001b[34mDownloading typing_extensions-4.8.0-py3-none-any.whl (31 kB)\u001b[0m\n",
      "\u001b[34mInstalling collected packages: tzdata, typing-extensions, python-dateutil, psycopg2-binary, numpy, SQLAlchemy, pgvector, pandas, dask\n",
      "  Attempting uninstall: python-dateutil\n",
      "    Found existing installation: python-dateutil 2.8.1\n",
      "    Uninstalling python-dateutil-2.8.1:\n",
      "      Successfully uninstalled python-dateutil-2.8.1\n",
      "  Attempting uninstall: numpy\n",
      "    Found existing installation: numpy 1.19.2\n",
      "    Uninstalling numpy-1.19.2:\u001b[0m\n",
      "\u001b[34m      Successfully uninstalled numpy-1.19.2\u001b[0m\n",
      "\u001b[34m  Attempting uninstall: pandas\n",
      "    Found existing installation: pandas 1.2.4\n",
      "    Uninstalling pandas-1.2.4:\n",
      "      Successfully uninstalled pandas-1.2.4\u001b[0m\n",
      "\u001b[34m  Attempting uninstall: dask\n",
      "    Found existing installation: dask 2022.11.1\n",
      "    Uninstalling dask-2022.11.1:\n",
      "      Successfully uninstalled dask-2022.11.1\u001b[0m\n",
      "\u001b[34mERROR: pip's dependency resolver does not currently take into account all the packages that are installed. This behaviour is the source of the following dependency conflicts.\u001b[0m\n",
      "\u001b[34msagemaker-containers 2.8.6.post2 requires typing, which is not installed.\u001b[0m\n",
      "\u001b[34mdask-cuda 22.12.0 requires dask==2022.11.1, but you have dask 2023.5.0 which is incompatible.\u001b[0m\n",
      "\u001b[34mdistributed 2022.11.1 requires dask==2022.11.1, but you have dask 2023.5.0 which is incompatible.\u001b[0m\n",
      "\u001b[34mnumba 0.56.4 requires numpy<1.24,>=1.18, but you have numpy 1.24.4 which is incompatible.\u001b[0m\n",
      "\u001b[34msagemaker-xgboost-container 2.0 requires dask==2022.11.1, but you have dask 2023.5.0 which is incompatible.\u001b[0m\n",
      "\u001b[34msagemaker-xgboost-container 2.0 requires numpy==1.19.2, but you have numpy 1.24.4 which is incompatible.\u001b[0m\n",
      "\u001b[34msagemaker-xgboost-container 2.0 requires pandas==1.2.4, but you have pandas 2.0.3 which is incompatible.\u001b[0m\n",
      "\u001b[34msagemaker-xgboost-container 2.0 requires python-dateutil==2.8.1, but you have python-dateutil 2.8.2 which is incompatible.\u001b[0m\n",
      "\u001b[34mscipy 1.6.2 requires numpy<1.23.0,>=1.16.5, but you have numpy 1.24.4 which is incompatible.\u001b[0m\n",
      "\u001b[34mSuccessfully installed SQLAlchemy-2.0.21 dask-2023.5.0 numpy-1.24.4 pandas-2.0.3 pgvector-0.2.3 psycopg2-binary-2.9.8 python-dateutil-2.8.2 typing-extensions-4.8.0 tzdata-2023.3\u001b[0m\n",
      "\u001b[34mWARNING: Running pip as the 'root' user can result in broken permissions and conflicting behaviour with the system package manager. It is recommended to use a virtual environment instead: https://pip.pypa.io/warnings/venv\u001b[0m\n",
      "\u001b[34m/miniconda3/lib/python3.8/site-packages/scipy/__init__.py:138: UserWarning: A NumPy version >=1.16.5 and <1.23.0 is required for this version of SciPy (detected version 1.24.4)\n",
      "  warnings.warn(f\"A NumPy version >={np_minversion} and <{np_maxversion} is required for this version of \"\u001b[0m\n",
      "\u001b[34mSQL tables: [('extracted_entitie',), ('extracted_entities',)]\u001b[0m\n",
      "\u001b[34m/opt/ml/processing/input/sqltables ['extracted_entities.csv']\u001b[0m\n",
      "\u001b[34mLoading extracted_entities data into a pandas dataframe\u001b[0m\n",
      "\u001b[34mSQL tables: [('extracted_entitie',), ('extracted_entities',)]\u001b[0m\n",
      "\n",
      "CPU times: user 911 ms, sys: 88.1 ms, total: 999 ms\n",
      "Wall time: 5min 24s\n"
     ]
    }
   ],
   "source": [
    "%%time\n",
    "from sagemaker.xgboost import XGBoostProcessor\n",
    "from sagemaker.processing import ProcessingInput, ProcessingOutput\n",
    "from sagemaker import get_execution_role\n",
    "\n",
    "# Initialize the XGBoostProcessor\n",
    "xgb = XGBoostProcessor(\n",
    "    framework_version=\"1.7-1\",\n",
    "    role=get_execution_role(),\n",
    "    instance_type=\"ml.t3.medium\",  # Cost optimized: using cheaper t3.medium instead of m5.large"\n",
    "    instance_count=1,\n",
    "    base_job_name=\"frameworkprocessor-XGB\",\n",
    "    env={\"SQL_DB_SECRET_ID\": db_secret_arn, \"AWS_DEFAULT_REGION\": region},\n",
    "    network_config=current_network_config,\n",
    ")\n",
    "\n",
    "# Run the processing job\n",
    "xgb.run(\n",
    "    code=\"load_sql_tables.py\",\n",
    "    source_dir=\"scripts\",\n",
    "    inputs=[\n",
    "        ProcessingInput(\n",
    "            input_name=\"sqltables\",\n",
    "            source=f\"s3://{s3_bucket_name}/{sql_tables_s3_key}\",\n",
    "            destination=\"/opt/ml/processing/input/sqltables\",\n",
    "        )\n",
    "    ],\n",
    ")"
   ]
  }
 ],
 "metadata": {
  "availableInstances": [
   {
    "_defaultOrder": 0,
    "_isFastLaunch": true,
    "category": "General purpose",
    "gpuNum": 0,
    "hideHardwareSpecs": false,
    "memoryGiB": 4,
    "name": "ml.t3.medium",
    "vcpuNum": 2
   },
   {
    "_defaultOrder": 1,
    "_isFastLaunch": false,
    "category": "General purpose",
    "gpuNum": 0,
    "hideHardwareSpecs": false,
    "memoryGiB": 8,
    "name": "ml.t3.large",
    "vcpuNum": 2
   },
   {
    "_defaultOrder": 2,
    "_isFastLaunch": false,
    "category": "General purpose",
    "gpuNum": 0,
    "hideHardwareSpecs": false,
    "memoryGiB": 16,
    "name": "ml.t3.xlarge",
    "vcpuNum": 4
   },
   {
    "_defaultOrder": 3,
    "_isFastLaunch": false,
    "category": "General purpose",
    "gpuNum": 0,
    "hideHardwareSpecs": false,
    "memoryGiB": 32,
    "name": "ml.t3.2xlarge",
    "vcpuNum": 8
   },
   {
    "_defaultOrder": 4,
    "_isFastLaunch": true,
    "category": "General purpose",
    "gpuNum": 0,
    "hideHardwareSpecs": false,
    "memoryGiB": 8,
    "name": "ml.m5.large",
    "vcpuNum": 2
   },
   {
    "_defaultOrder": 5,
    "_isFastLaunch": false,
    "category": "General purpose",
    "gpuNum": 0,
    "hideHardwareSpecs": false,
    "memoryGiB": 16,
    "name": "ml.m5.xlarge",
    "vcpuNum": 4
   },
   {
    "_defaultOrder": 6,
    "_isFastLaunch": false,
    "category": "General purpose",
    "gpuNum": 0,
    "hideHardwareSpecs": false,
    "memoryGiB": 32,
    "name": "ml.m5.2xlarge",
    "vcpuNum": 8
   },
   {
    "_defaultOrder": 7,
    "_isFastLaunch": false,
    "category": "General purpose",
    "gpuNum": 0,
    "hideHardwareSpecs": false,
    "memoryGiB": 64,
    "name": "ml.m5.4xlarge",
    "vcpuNum": 16
   },
   {
    "_defaultOrder": 8,
    "_isFastLaunch": false,
    "category": "General purpose",
    "gpuNum": 0,
    "hideHardwareSpecs": false,
    "memoryGiB": 128,
    "name": "ml.m5.8xlarge",
    "vcpuNum": 32
   },
   {
    "_defaultOrder": 9,
    "_isFastLaunch": false,
    "category": "General purpose",
    "gpuNum": 0,
    "hideHardwareSpecs": false,
    "memoryGiB": 192,
    "name": "ml.m5.12xlarge",
    "vcpuNum": 48
   },
   {
    "_defaultOrder": 10,
    "_isFastLaunch": false,
    "category": "General purpose",
    "gpuNum": 0,
    "hideHardwareSpecs": false,
    "memoryGiB": 256,
    "name": "ml.m5.16xlarge",
    "vcpuNum": 64
   },
   {
    "_defaultOrder": 11,
    "_isFastLaunch": false,
    "category": "General purpose",
    "gpuNum": 0,
    "hideHardwareSpecs": false,
    "memoryGiB": 384,
    "name": "ml.m5.24xlarge",
    "vcpuNum": 96
   },
   {
    "_defaultOrder": 12,
    "_isFastLaunch": false,
    "category": "General purpose",
    "gpuNum": 0,
    "hideHardwareSpecs": false,
    "memoryGiB": 8,
    "name": "ml.m5d.large",
    "vcpuNum": 2
   },
   {
    "_defaultOrder": 13,
    "_isFastLaunch": false,
    "category": "General purpose",
    "gpuNum": 0,
    "hideHardwareSpecs": false,
    "memoryGiB": 16,
    "name": "ml.m5d.xlarge",
    "vcpuNum": 4
   },
   {
    "_defaultOrder": 14,
    "_isFastLaunch": false,
    "category": "General purpose",
    "gpuNum": 0,
    "hideHardwareSpecs": false,
    "memoryGiB": 32,
    "name": "ml.m5d.2xlarge",
    "vcpuNum": 8
   },
   {
    "_defaultOrder": 15,
    "_isFastLaunch": false,
    "category": "General purpose",
    "gpuNum": 0,
    "hideHardwareSpecs": false,
    "memoryGiB": 64,
    "name": "ml.m5d.4xlarge",
    "vcpuNum": 16
   },
   {
    "_defaultOrder": 16,
    "_isFastLaunch": false,
    "category": "General purpose",
    "gpuNum": 0,
    "hideHardwareSpecs": false,
    "memoryGiB": 128,
    "name": "ml.m5d.8xlarge",
    "vcpuNum": 32
   },
   {
    "_defaultOrder": 17,
    "_isFastLaunch": false,
    "category": "General purpose",
    "gpuNum": 0,
    "hideHardwareSpecs": false,
    "memoryGiB": 192,
    "name": "ml.m5d.12xlarge",
    "vcpuNum": 48
   },
   {
    "_defaultOrder": 18,
    "_isFastLaunch": false,
    "category": "General purpose",
    "gpuNum": 0,
    "hideHardwareSpecs": false,
    "memoryGiB": 256,
    "name": "ml.m5d.16xlarge",
    "vcpuNum": 64
   },
   {
    "_defaultOrder": 19,
    "_isFastLaunch": false,
    "category": "General purpose",
    "gpuNum": 0,
    "hideHardwareSpecs": false,
    "memoryGiB": 384,
    "name": "ml.m5d.24xlarge",
    "vcpuNum": 96
   },
   {
    "_defaultOrder": 20,
    "_isFastLaunch": false,
    "category": "General purpose",
    "gpuNum": 0,
    "hideHardwareSpecs": true,
    "memoryGiB": 0,
    "name": "ml.geospatial.interactive",
    "supportedImageNames": [
     "sagemaker-geospatial-v1-0"
    ],
    "vcpuNum": 0
   },
   {
    "_defaultOrder": 21,
    "_isFastLaunch": true,
    "category": "Compute optimized",
    "gpuNum": 0,
    "hideHardwareSpecs": false,
    "memoryGiB": 4,
    "name": "ml.c5.large",
    "vcpuNum": 2
   },
   {
    "_defaultOrder": 22,
    "_isFastLaunch": false,
    "category": "Compute optimized",
    "gpuNum": 0,
    "hideHardwareSpecs": false,
    "memoryGiB": 8,
    "name": "ml.c5.xlarge",
    "vcpuNum": 4
   },
   {
    "_defaultOrder": 23,
    "_isFastLaunch": false,
    "category": "Compute optimized",
    "gpuNum": 0,
    "hideHardwareSpecs": false,
    "memoryGiB": 16,
    "name": "ml.c5.2xlarge",
    "vcpuNum": 8
   },
   {
    "_defaultOrder": 24,
    "_isFastLaunch": false,
    "category": "Compute optimized",
    "gpuNum": 0,
    "hideHardwareSpecs": false,
    "memoryGiB": 32,
    "name": "ml.c5.4xlarge",
    "vcpuNum": 16
   },
   {
    "_defaultOrder": 25,
    "_isFastLaunch": false,
    "category": "Compute optimized",
    "gpuNum": 0,
    "hideHardwareSpecs": false,
    "memoryGiB": 72,
    "name": "ml.c5.9xlarge",
    "vcpuNum": 36
   },
   {
    "_defaultOrder": 26,
    "_isFastLaunch": false,
    "category": "Compute optimized",
    "gpuNum": 0,
    "hideHardwareSpecs": false,
    "memoryGiB": 96,
    "name": "ml.c5.12xlarge",
    "vcpuNum": 48
   },
   {
    "_defaultOrder": 27,
    "_isFastLaunch": false,
    "category": "Compute optimized",
    "gpuNum": 0,
    "hideHardwareSpecs": false,
    "memoryGiB": 144,
    "name": "ml.c5.18xlarge",
    "vcpuNum": 72
   },
   {
    "_defaultOrder": 28,
    "_isFastLaunch": false,
    "category": "Compute optimized",
    "gpuNum": 0,
    "hideHardwareSpecs": false,
    "memoryGiB": 192,
    "name": "ml.c5.24xlarge",
    "vcpuNum": 96
   },
   {
    "_defaultOrder": 29,
    "_isFastLaunch": true,
    "category": "Accelerated computing",
    "gpuNum": 1,
    "hideHardwareSpecs": false,
    "memoryGiB": 16,
    "name": "ml.g4dn.xlarge",
    "vcpuNum": 4
   },
   {
    "_defaultOrder": 30,
    "_isFastLaunch": false,
    "category": "Accelerated computing",
    "gpuNum": 1,
    "hideHardwareSpecs": false,
    "memoryGiB": 32,
    "name": "ml.g4dn.2xlarge",
    "vcpuNum": 8
   },
   {
    "_defaultOrder": 31,
    "_isFastLaunch": false,
    "category": "Accelerated computing",
    "gpuNum": 1,
    "hideHardwareSpecs": false,
    "memoryGiB": 64,
    "name": "ml.g4dn.4xlarge",
    "vcpuNum": 16
   },
   {
    "_defaultOrder": 32,
    "_isFastLaunch": false,
    "category": "Accelerated computing",
    "gpuNum": 1,
    "hideHardwareSpecs": false,
    "memoryGiB": 128,
    "name": "ml.g4dn.8xlarge",
    "vcpuNum": 32
   },
   {
    "_defaultOrder": 33,
    "_isFastLaunch": false,
    "category": "Accelerated computing",
    "gpuNum": 4,
    "hideHardwareSpecs": false,
    "memoryGiB": 192,
    "name": "ml.g4dn.12xlarge",
    "vcpuNum": 48
   },
   {
    "_defaultOrder": 34,
    "_isFastLaunch": false,
    "category": "Accelerated computing",
    "gpuNum": 1,
    "hideHardwareSpecs": false,
    "memoryGiB": 256,
    "name": "ml.g4dn.16xlarge",
    "vcpuNum": 64
   },
   {
    "_defaultOrder": 35,
    "_isFastLaunch": false,
    "category": "Accelerated computing",
    "gpuNum": 1,
    "hideHardwareSpecs": false,
    "memoryGiB": 61,
    "name": "ml.p3.2xlarge",
    "vcpuNum": 8
   },
   {
    "_defaultOrder": 36,
    "_isFastLaunch": false,
    "category": "Accelerated computing",
    "gpuNum": 4,
    "hideHardwareSpecs": false,
    "memoryGiB": 244,
    "name": "ml.p3.8xlarge",
    "vcpuNum": 32
   },
   {
    "_defaultOrder": 37,
    "_isFastLaunch": false,
    "category": "Accelerated computing",
    "gpuNum": 8,
    "hideHardwareSpecs": false,
    "memoryGiB": 488,
    "name": "ml.p3.16xlarge",
    "vcpuNum": 64
   },
   {
    "_defaultOrder": 38,
    "_isFastLaunch": false,
    "category": "Accelerated computing",
    "gpuNum": 8,
    "hideHardwareSpecs": false,
    "memoryGiB": 768,
    "name": "ml.p3dn.24xlarge",
    "vcpuNum": 96
   },
   {
    "_defaultOrder": 39,
    "_isFastLaunch": false,
    "category": "Memory Optimized",
    "gpuNum": 0,
    "hideHardwareSpecs": false,
    "memoryGiB": 16,
    "name": "ml.r5.large",
    "vcpuNum": 2
   },
   {
    "_defaultOrder": 40,
    "_isFastLaunch": false,
    "category": "Memory Optimized",
    "gpuNum": 0,
    "hideHardwareSpecs": false,
    "memoryGiB": 32,
    "name": "ml.r5.xlarge",
    "vcpuNum": 4
   },
   {
    "_defaultOrder": 41,
    "_isFastLaunch": false,
    "category": "Memory Optimized",
    "gpuNum": 0,
    "hideHardwareSpecs": false,
    "memoryGiB": 64,
    "name": "ml.r5.2xlarge",
    "vcpuNum": 8
   },
   {
    "_defaultOrder": 42,
    "_isFastLaunch": false,
    "category": "Memory Optimized",
    "gpuNum": 0,
    "hideHardwareSpecs": false,
    "memoryGiB": 128,
    "name": "ml.r5.4xlarge",
    "vcpuNum": 16
   },
   {
    "_defaultOrder": 43,
    "_isFastLaunch": false,
    "category": "Memory Optimized",
    "gpuNum": 0,
    "hideHardwareSpecs": false,
    "memoryGiB": 256,
    "name": "ml.r5.8xlarge",
    "vcpuNum": 32
   },
   {
    "_defaultOrder": 44,
    "_isFastLaunch": false,
    "category": "Memory Optimized",
    "gpuNum": 0,
    "hideHardwareSpecs": false,
    "memoryGiB": 384,
    "name": "ml.r5.12xlarge",
    "vcpuNum": 48
   },
   {
    "_defaultOrder": 45,
    "_isFastLaunch": false,
    "category": "Memory Optimized",
    "gpuNum": 0,
    "hideHardwareSpecs": false,
    "memoryGiB": 512,
    "name": "ml.r5.16xlarge",
    "vcpuNum": 64
   },
   {
    "_defaultOrder": 46,
    "_isFastLaunch": false,
    "category": "Memory Optimized",
    "gpuNum": 0,
    "hideHardwareSpecs": false,
    "memoryGiB": 768,
    "name": "ml.r5.24xlarge",
    "vcpuNum": 96
   },
   {
    "_defaultOrder": 47,
    "_isFastLaunch": false,
    "category": "Accelerated computing",
    "gpuNum": 1,
    "hideHardwareSpecs": false,
    "memoryGiB": 16,
    "name": "ml.g5.xlarge",
    "vcpuNum": 4
   },
   {
    "_defaultOrder": 48,
    "_isFastLaunch": false,
    "category": "Accelerated computing",
    "gpuNum": 1,
    "hideHardwareSpecs": false,
    "memoryGiB": 32,
    "name": "ml.g5.2xlarge",
    "vcpuNum": 8
   },
   {
    "_defaultOrder": 49,
    "_isFastLaunch": false,
    "category": "Accelerated computing",
    "gpuNum": 1,
    "hideHardwareSpecs": false,
    "memoryGiB": 64,
    "name": "ml.g5.4xlarge",
    "vcpuNum": 16
   },
   {
    "_defaultOrder": 50,
    "_isFastLaunch": false,
    "category": "Accelerated computing",
    "gpuNum": 1,
    "hideHardwareSpecs": false,
    "memoryGiB": 128,
    "name": "ml.g5.8xlarge",
    "vcpuNum": 32
   },
   {
    "_defaultOrder": 51,
    "_isFastLaunch": false,
    "category": "Accelerated computing",
    "gpuNum": 1,
    "hideHardwareSpecs": false,
    "memoryGiB": 256,
    "name": "ml.g5.16xlarge",
    "vcpuNum": 64
   },
   {
    "_defaultOrder": 52,
    "_isFastLaunch": false,
    "category": "Accelerated computing",
    "gpuNum": 4,
    "hideHardwareSpecs": false,
    "memoryGiB": 192,
    "name": "ml.g5.12xlarge",
    "vcpuNum": 48
   },
   {
    "_defaultOrder": 53,
    "_isFastLaunch": false,
    "category": "Accelerated computing",
    "gpuNum": 4,
    "hideHardwareSpecs": false,
    "memoryGiB": 384,
    "name": "ml.g5.24xlarge",
    "vcpuNum": 96
   },
   {
    "_defaultOrder": 54,
    "_isFastLaunch": false,
    "category": "Accelerated computing",
    "gpuNum": 8,
    "hideHardwareSpecs": false,
    "memoryGiB": 768,
    "name": "ml.g5.48xlarge",
    "vcpuNum": 192
   },
   {
    "_defaultOrder": 55,
    "_isFastLaunch": false,
    "category": "Accelerated computing",
    "gpuNum": 8,
    "hideHardwareSpecs": false,
    "memoryGiB": 1152,
    "name": "ml.p4d.24xlarge",
    "vcpuNum": 96
   },
   {
    "_defaultOrder": 56,
    "_isFastLaunch": false,
    "category": "Accelerated computing",
    "gpuNum": 8,
    "hideHardwareSpecs": false,
    "memoryGiB": 1152,
    "name": "ml.p4de.24xlarge",
    "vcpuNum": 96
   }
  ],
  "instance_type": "ml.m5.large",
  "kernelspec": {
   "display_name": "Python 3 (ipykernel)",
   "language": "python",
   "name": "python3"
  },
  "language_info": {
   "codemirror_mode": {
    "name": "ipython",
    "version": 3
   },
   "file_extension": ".py",
   "mimetype": "text/x-python",
   "name": "python",
   "nbconvert_exporter": "python",
   "pygments_lexer": "ipython3",
   "version": "3.10.13"
  }
 },
 "nbformat": 4,
 "nbformat_minor": 5
}
