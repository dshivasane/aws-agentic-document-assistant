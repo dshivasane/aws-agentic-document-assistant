{
 "cells": [
  {
   "cell_type": "markdown",
   "id": "c62aa787-4366-4d8b-97cc-5d4b45101118",
   "metadata": {},
   "source": [
    "# 04 - Amazon SageMaker jobs and pipeline for documents processing"
   ]
  },
  {
   "cell_type": "markdown",
   "id": "f8a050f4-5488-4189-9c42-aa0a4cedf972",
   "metadata": {},
   "source": [
    "Steps of the pipeline:\n",
    "\n",
    "If you want to run the pipeline on new documents, run the the steps 1 to 4 below, then run this notebook.\n",
    "Alternatively, if you simply want to demo or explore this solution run this notebook which will upload pre-created data automatically\n",
    "if no data already exists.\n",
    "\n",
    "1. Download documents: use `experiments/02-download-raw-pdf-documents.ipynb`\n",
    "2. Parse out the text: use `experiments/03-pdf-document-processing.ipynb`\n",
    "3. Create embedding and semantic search index: use `experiments/04-question-answering-using-rag.ipynb`\n",
    "4. Extract entities: use `experiments/05-entities-extraction-to-structured-metadata.ipynb`\n",
    "5. Load embeddings into PostgreSQL: first step of the pipeline below.\n",
    "6. Load entities into SQL table: second stpe of the pipeline below.\n"
   ]
  },
  {
   "cell_type": "markdown",
   "id": "bf8c8bde-a2ff-47b8-8323-7fe3f2812644",
   "metadata": {},
   "source": [
    "Run this notebook after running notebooks 01 to 05 under `experiments`. This will execute a SageMaker pipeline that prepares the embeddings and SQL tables and loads them into the PostgreSQL database."
   ]
  },
  {
   "cell_type": "code",
   "execution_count": 2,
   "id": "3419dd46-018d-47a7-9f0c-3c9375f41bf7",
   "metadata": {
    "tags": []
   },
   "outputs": [
    {
     "name": "stdout",
     "output_type": "stream",
     "text": [
      "sagemaker.config INFO - Not applying SDK defaults from location: /etc/xdg/sagemaker/config.yaml\n",
      "sagemaker.config INFO - Not applying SDK defaults from location: /home/sagemaker-user/.config/sagemaker/config.yaml\n",
      "sagemaker.config INFO - Not applying SDK defaults from location: /etc/xdg/sagemaker/config.yaml\n",
      "sagemaker.config INFO - Not applying SDK defaults from location: /home/sagemaker-user/.config/sagemaker/config.yaml\n",
      "sagemaker.config INFO - Not applying SDK defaults from location: /etc/xdg/sagemaker/config.yaml\n",
      "sagemaker.config INFO - Not applying SDK defaults from location: /home/sagemaker-user/.config/sagemaker/config.yaml\n",
      "sagemaker.config INFO - Not applying SDK defaults from location: /etc/xdg/sagemaker/config.yaml\n",
      "sagemaker.config INFO - Not applying SDK defaults from location: /home/sagemaker-user/.config/sagemaker/config.yaml\n"
     ]
    }
   ],
   "source": [
    "import sys\n",
    "\n",
    "import boto3\n",
    "import sagemaker\n",
    "from sagemaker.workflow.pipeline_context import PipelineSession\n",
    "\n",
    "sagemaker_session = sagemaker.session.Session()\n",
    "region = sagemaker_session.boto_region_name\n",
    "role = sagemaker.get_execution_role()\n",
    "pipeline_session = PipelineSession()"
   ]
  },
  {
   "cell_type": "code",
   "execution_count": 3,
   "id": "00935a28-dc83-4848-83f9-6b6b84205934",
   "metadata": {
    "tags": []
   },
   "outputs": [],
   "source": [
    "import json\n",
    "\n",
    "ssm = boto3.client(\"ssm\")\n",
    "secretsmanager = boto3.client(\"secretsmanager\")\n",
    "region = boto3.session.Session().region_name"
   ]
  },
  {
   "cell_type": "code",
   "execution_count": 4,
   "id": "90f427bd-e0da-4a2f-9687-f2b1bc5f4595",
   "metadata": {},
   "outputs": [],
   "source": [
    "security_group_parameter = \"/AgenticLLMAssistant/SMProcessingJobSecurityGroupId\"\n",
    "dbsecret_arn_parameter = \"/AgenticLLMAssistant/DBSecretARN\"\n",
    "subnet_ids_parameter = \"/AgenticLLMAssistant/SubnetIds\"\n",
    "s3_bucket_name_parameter = \"/AgenticLLMAssistant/AgentDataBucketParameter\"\n",
    "\n",
    "security_group = ssm.get_parameter(Name=security_group_parameter)\n",
    "security_group = security_group[\"Parameter\"][\"Value\"]\n",
    "\n",
    "db_secret_arn = ssm.get_parameter(Name=dbsecret_arn_parameter)\n",
    "db_secret_arn = db_secret_arn[\"Parameter\"][\"Value\"]\n",
    "\n",
    "subnet_ids = ssm.get_parameter(Name=subnet_ids_parameter)\n",
    "# Updated for cost optimization: using public subnets instead of private with NAT Gateway\n",
    "public_subnets_ids = json.loads(subnet_ids[\"Parameter\"][\"Value\"])\n",
    "\n",
    "s3_bucket_name = ssm.get_parameter(Name=s3_bucket_name_parameter)\n",
    "s3_bucket_name = s3_bucket_name[\"Parameter\"][\"Value\"]\n"
   ]
  },
  {
   "cell_type": "code",
   "execution_count": 5,
   "id": "ae33151d-833a-4edb-a5fa-b23fcfe6370f",
   "metadata": {},
   "outputs": [],
   "source": [
    "processed_documents_s3_key = \"documents_processed.json\"\n",
    "sql_tables_s3_key = \"structured_metadata\""
   ]
  },
  {
   "cell_type": "code",
   "execution_count": 6,
   "id": "c254df1a-e46e-43ec-93c5-872a2eb4e01d",
   "metadata": {
    "tags": []
   },
   "outputs": [
    {
     "name": "stdout",
     "output_type": "stream",
     "text": [
      "2024-03-15 13:56:13      67716 documents_processed.json\n"
     ]
    }
   ],
   "source": [
    "!aws s3 ls {s3_bucket_name}/{processed_documents_s3_key}"
   ]
  },
  {
   "cell_type": "code",
   "execution_count": 8,
   "id": "13b38c0f-b2b4-4a14-a70b-d6848306ac01",
   "metadata": {
    "tags": []
   },
   "outputs": [
    {
     "name": "stdout",
     "output_type": "stream",
     "text": [
      "2024-03-15 14:56:02       4722 extracted_entities.csv\n"
     ]
    }
   ],
   "source": [
    "!aws s3 ls {s3_bucket_name}/{sql_tables_s3_key}/"
   ]
  },
  {
   "cell_type": "markdown",
   "id": "1a15def2-bfec-4687-9f5f-b7a782d07a79",
   "metadata": {},
   "source": [
    "## Upload pre-created data if no data exists"
   ]
  },
  {
   "cell_type": "code",
   "execution_count": 18,
   "id": "46368636-c2f6-41e0-b12d-ee1c9dbee58c",
   "metadata": {},
   "outputs": [],
   "source": [
    "import boto3\n",
    "import botocore\n",
    "\n",
    "# Create an S3 client\n",
    "s3 = boto3.client('s3')\n",
    "\n",
    "\n",
    "def upload_file_to_s3_if_doesnt_exist(file_path, bucket_name, s3_file_key):\n",
    "    try:\n",
    "        # Try to retrieve the file metadata\n",
    "        s3.head_object(Bucket=bucket_name, Key=s3_file_key)\n",
    "        print(f\"File '{s3_file_key}' already exists in bucket '{bucket_name}'\")\n",
    "    except botocore.exceptions.ClientError as e:\n",
    "        # If the error code is 404 (Not Found), the file doesn't exist\n",
    "        if e.response['Error']['Code'] == '404':\n",
    "            try:\n",
    "                # Upload the file to S3\n",
    "                s3.upload_file(file_path, bucket_name, s3_file_key)\n",
    "                print(f\"File '{s3_file_key}' uploaded to bucket '{bucket_name}'\")\n",
    "            except botocore.exceptions.ClientError as e:\n",
    "                print(f\"Error uploading file: {e}\")\n",
    "        else:\n",
    "            # Handle other errors, e.g., access denied, bucket doesn't exist, etc.\n",
    "            print(f\"Error occurred: {e}\")"
   ]
  },
  {
   "cell_type": "markdown",
   "id": "791a467d-87ca-4738-9c91-b4891cae05ab",
   "metadata": {},
   "source": [
    "Upload Amazon Financial reports pre-extracted with Amazon Textract using the notebooks 1 to 5 referred at the beginning of this notebook."
   ]
  },
  {
   "cell_type": "code",
   "execution_count": 23,
   "id": "318c59fb-e927-4875-a9e0-494a22211686",
   "metadata": {},
   "outputs": [
    {
     "name": "stdout",
     "output_type": "stream",
     "text": [
      "File 'documents_processed.json' already exists in bucket 'assistantbackendstack-agentdatabucket67afdfb9-pqa1faq3bool'\n"
     ]
    }
   ],
   "source": [
    "file_path = \"data/documents_processed.json\"\n",
    "s3_file_key = processed_documents_s3_key\n",
    "upload_file_to_s3_if_doesnt_exist(file_path, s3_bucket_name, s3_file_key)"
   ]
  },
  {
   "cell_type": "markdown",
   "id": "b0c7cde0-fb81-434b-9faf-fa86b35fabdf",
   "metadata": {},
   "source": [
    "Upload entities of interest extracted from Amazon Financial reports using notebooks 1 to 5 referred at the beginning of this notebook."
   ]
  },
  {
   "cell_type": "code",
   "execution_count": 25,
   "id": "9d897f8d-1169-413f-9e50-2fb78a643541",
   "metadata": {},
   "outputs": [
    {
     "name": "stdout",
     "output_type": "stream",
     "text": [
      "File 'structured_metadata/extracted_entities.csv' already exists in bucket 'assistantbackendstack-agentdatabucket67afdfb9-pqa1faq3bool'\n"
     ]
    }
   ],
   "source": [
    "file_path = \"data/extracted_entities.csv\"\n",
    "s3_file_key = f\"{sql_tables_s3_key}/extracted_entities.csv\"\n",
    "upload_file_to_s3_if_doesnt_exist(file_path, s3_bucket_name, s3_file_key)"
   ]
  },
  {
   "cell_type": "markdown",
   "id": "3399ec3a-daf5-4cce-b048-0bc6270c4f87",
   "metadata": {},
   "source": [
    "## Add pipeline step to prepare and load embeddings"
   ]
  },
  {
   "cell_type": "code",
   "execution_count": 27,
   "id": "9f6f2f09-c262-41e0-bff5-4d0234488d1c",
   "metadata": {
    "tags": []
   },
   "outputs": [],
   "source": [
    "from sagemaker.network import NetworkConfig\n",
    "\n",
    "# Note if you enable network isolation, with enable_network_isolation=True\n",
    "# the pip installation of the dependencies\n",
    "# under scripts/requirements.txt won't work.\n",
    "# Cost optimization: using public subnets to avoid NAT Gateway costs\n",
    "current_network_config = NetworkConfig(\n",
    "    subnets=public_subnets_ids, security_group_ids=[security_group]\n",
    ")"
   ]
  },
  {
   "cell_type": "code",
   "execution_count": 28,
   "id": "72a8d4ab-5a48-49a5-b3f0-a65e2f16daed",
   "metadata": {
    "tags": []
   },
   "outputs": [
    {
     "name": "stdout",
     "output_type": "stream",
     "text": [
      "sagemaker.config INFO - Not applying SDK defaults from location: /etc/xdg/sagemaker/config.yaml\n",
      "sagemaker.config INFO - Not applying SDK defaults from location: /home/sagemaker-user/.config/sagemaker/config.yaml\n",
      "CPU times: user 105 ms, sys: 0 ns, total: 105 ms\n",
      "Wall time: 130 ms\n"
     ]
    },
    {
     "name": "stderr",
     "output_type": "stream",
     "text": [
      "/opt/conda/lib/python3.10/site-packages/sagemaker/workflow/pipeline_context.py:297: UserWarning: Running within a PipelineSession, there will be No Wait, No Logs, and No Job being started.\n",
      "  warnings.warn(\n"
     ]
    }
   ],
   "source": [
    "%%time\n",
    "from sagemaker.xgboost import XGBoostProcessor\n",
    "from sagemaker.processing import ProcessingInput, ProcessingOutput\n",
    "from sagemaker import get_execution_role\n",
    "from sagemaker.workflow.steps import ProcessingStep\n",
    "\n",
    "# Initialize the XGBoostProcessor\n",
    "embeddings_and_index_job = XGBoostProcessor(\n",
    "    framework_version=\"1.7-1\",\n",
    "    role=get_execution_role(),\n",
    "    instance_type=\"ml.t3.medium\",  # Cost optimized: using cheaper t3.medium instead of m5.large"\n",
    "    instance_count=1,\n",
    "    base_job_name=\"PrepareAndLoadEmbeddingsJob\",\n",
    "    env={\n",
    "        \"SQL_DB_SECRET_ID\": db_secret_arn,\n",
    "        # region used by botocore.\n",
    "        \"AWS_DEFAULT_REGION\": region,\n",
    "    },\n",
    "    network_config=current_network_config,\n",
    "    sagemaker_session=pipeline_session\n",
    ")\n",
    "\n",
    "# Run the processing job\n",
    "embeddings_creation_and_indexing_args = embeddings_and_index_job.run(\n",
    "    code=\"prepare_and_load_embeddings.py\",\n",
    "    source_dir=\"scripts\",\n",
    "    inputs=[\n",
    "        ProcessingInput(\n",
    "            input_name=\"processed_documents\",\n",
    "            source=f\"s3://{s3_bucket_name}/{processed_documents_s3_key}\",\n",
    "            destination=\"/opt/ml/processing/input/processed_documents\",\n",
    "        )\n",
    "    ],\n",
    ")\n",
    "\n",
    "embeddings_creation_and_indexing_step = ProcessingStep(\n",
    "    name=\"EmbeddingCreationAndIndexing\",\n",
    "    step_args=embeddings_creation_and_indexing_args\n",
    ")"
   ]
  },
  {
   "cell_type": "markdown",
   "id": "11e3fde3-e1f2-4060-b4b8-79f4c34302ba",
   "metadata": {},
   "source": [
    "## Add pipeline step to load extract entities into a SQL table"
   ]
  },
  {
   "cell_type": "code",
   "execution_count": 29,
   "id": "d32e7e37-1ed2-49d8-a23d-8b3a8268668a",
   "metadata": {
    "tags": []
   },
   "outputs": [
    {
     "name": "stdout",
     "output_type": "stream",
     "text": [
      "sagemaker.config INFO - Not applying SDK defaults from location: /etc/xdg/sagemaker/config.yaml\n",
      "sagemaker.config INFO - Not applying SDK defaults from location: /home/sagemaker-user/.config/sagemaker/config.yaml\n",
      "CPU times: user 59.1 ms, sys: 0 ns, total: 59.1 ms\n",
      "Wall time: 69.6 ms\n"
     ]
    }
   ],
   "source": [
    "%%time\n",
    "from sagemaker.xgboost import XGBoostProcessor\n",
    "from sagemaker.processing import ProcessingInput, ProcessingOutput\n",
    "from sagemaker import get_execution_role\n",
    "\n",
    "# Initialize the XGBoostProcessor\n",
    "entities_to_sql = XGBoostProcessor(\n",
    "    framework_version=\"1.7-1\",\n",
    "    role=get_execution_role(),\n",
    "    instance_type=\"ml.t3.medium\",  # Cost optimized: using cheaper t3.medium instead of m5.large"\n",
    "    instance_count=1,\n",
    "    base_job_name=\"LoadEntitiesToSQLTableJob\",\n",
    "    env={\"SQL_DB_SECRET_ID\": db_secret_arn, \"AWS_DEFAULT_REGION\": region},\n",
    "    network_config=current_network_config,\n",
    "    sagemaker_session=pipeline_session,\n",
    ")\n",
    "\n",
    "# Run the processing job\n",
    "load_entities_to_sql_table_args = entities_to_sql.run(\n",
    "    code=\"load_sql_tables.py\",\n",
    "    source_dir=\"scripts\",\n",
    "    inputs=[\n",
    "        ProcessingInput(\n",
    "            input_name=\"sqltables\",\n",
    "            source=f\"s3://{s3_bucket_name}/{sql_tables_s3_key}\",\n",
    "            destination=\"/opt/ml/processing/input/sqltables\",\n",
    "        )\n",
    "    ]\n",
    ")\n",
    "\n",
    "load_entities_to_sql_table_step = ProcessingStep(\n",
    "    name=\"LoadEntitiesToSQLTable\",\n",
    "    step_args=load_entities_to_sql_table_args\n",
    ")"
   ]
  },
  {
   "cell_type": "markdown",
   "id": "e4c82e34-03e2-4153-b421-e8c5b2f66e5f",
   "metadata": {},
   "source": [
    "## Define the SageMaker Pipeline"
   ]
  },
  {
   "cell_type": "code",
   "execution_count": 30,
   "id": "80008ba8-5cc4-4b30-8dd7-47221d09806a",
   "metadata": {
    "tags": []
   },
   "outputs": [
    {
     "name": "stdout",
     "output_type": "stream",
     "text": [
      "sagemaker.config INFO - Not applying SDK defaults from location: /etc/xdg/sagemaker/config.yaml\n",
      "sagemaker.config INFO - Not applying SDK defaults from location: /home/sagemaker-user/.config/sagemaker/config.yaml\n"
     ]
    }
   ],
   "source": [
    "from sagemaker.workflow.pipeline import Pipeline\n",
    "\n",
    "\n",
    "pipeline_name = f\"agentic-assistant-data-processing\"\n",
    "pipeline = Pipeline(\n",
    "    name=pipeline_name,\n",
    "    parameters=[],\n",
    "    steps=[\n",
    "        embeddings_creation_and_indexing_step,\n",
    "        load_entities_to_sql_table_step\n",
    "    ]\n",
    ")"
   ]
  },
  {
   "cell_type": "markdown",
   "id": "e606c240-5e22-45ce-84b9-39b3bb36af21",
   "metadata": {},
   "source": [
    "print the pipeline definition in json"
   ]
  },
  {
   "cell_type": "code",
   "execution_count": 31,
   "id": "c202f6cb-dd11-434c-9177-5dcbadc8638d",
   "metadata": {
    "tags": []
   },
   "outputs": [
    {
     "name": "stderr",
     "output_type": "stream",
     "text": [
      "WARNING:sagemaker.workflow.utilities:Popping out 'ProcessingJobName' from the pipeline definition by default since it will be overridden at pipeline execution time. Please utilize the PipelineDefinitionConfig to persist this field in the pipeline definition if desired.\n",
      "INFO:sagemaker.processing:Uploaded scripts to s3://sagemaker-eu-west-1-AWS_ACCOUNT_ID/agentic-assistant-data-processing/code/9467369aa148a44f332dd981afda32de/sourcedir.tar.gz\n"
     ]
    },
    {
     "name": "stdout",
     "output_type": "stream",
     "text": [
      "Using provided s3_resource\n",
      "Using provided s3_resource\n"
     ]
    },
    {
     "name": "stderr",
     "output_type": "stream",
     "text": [
      "INFO:sagemaker.processing:runproc.sh uploaded to s3://sagemaker-eu-west-1-AWS_ACCOUNT_ID/agentic-assistant-data-processing/code/24c014389a99c012dd3121b9fc882ee9/runproc.sh\n",
      "WARNING:sagemaker.workflow.utilities:Popping out 'ProcessingJobName' from the pipeline definition by default since it will be overridden at pipeline execution time. Please utilize the PipelineDefinitionConfig to persist this field in the pipeline definition if desired.\n"
     ]
    },
    {
     "data": {
      "text/plain": [
       "{'Version': '2020-12-01',\n",
       " 'Metadata': {},\n",
       " 'Parameters': [],\n",
       " 'PipelineExperimentConfig': {'ExperimentName': {'Get': 'Execution.PipelineName'},\n",
       "  'TrialName': {'Get': 'Execution.PipelineExecutionId'}},\n",
       " 'Steps': [{'Name': 'EmbeddingCreationAndIndexing',\n",
       "   'Type': 'Processing',\n",
       "   'Arguments': {'ProcessingResources': {'ClusterConfig': {'InstanceType': 'ml.m5.large',\n",
       "      'InstanceCount': 1,\n",
       "      'VolumeSizeInGB': 30}},\n",
       "    'AppSpecification': {'ImageUri': '141502667606.dkr.ecr.eu-west-1.amazonaws.com/sagemaker-xgboost:1.7-1',\n",
       "     'ContainerEntrypoint': ['/bin/bash',\n",
       "      '/opt/ml/processing/input/entrypoint/runproc.sh']},\n",
       "    'RoleArn': 'arn:aws:iam::AWS_ACCOUNT_ID:role/service-role/AmazonSageMaker-ExecutionRole-20240131T120658',\n",
       "    'ProcessingInputs': [{'InputName': 'processed_documents',\n",
       "      'AppManaged': False,\n",
       "      'S3Input': {'S3Uri': 's3://assistantbackendstack-agentdatabucket67afdfb9-pqa1faq3bool/documents_processed.json',\n",
       "       'LocalPath': '/opt/ml/processing/input/processed_documents',\n",
       "       'S3DataType': 'S3Prefix',\n",
       "       'S3InputMode': 'File',\n",
       "       'S3DataDistributionType': 'FullyReplicated',\n",
       "       'S3CompressionType': 'None'}},\n",
       "     {'InputName': 'code',\n",
       "      'AppManaged': False,\n",
       "      'S3Input': {'S3Uri': 's3://sagemaker-eu-west-1-AWS_ACCOUNT_ID/agentic-assistant-data-processing/code/94648ce6e344f7078372ffdc67507a25/sourcedir.tar.gz',\n",
       "       'LocalPath': '/opt/ml/processing/input/code/',\n",
       "       'S3DataType': 'S3Prefix',\n",
       "       'S3InputMode': 'File',\n",
       "       'S3DataDistributionType': 'FullyReplicated',\n",
       "       'S3CompressionType': 'None'}},\n",
       "     {'InputName': 'entrypoint',\n",
       "      'AppManaged': False,\n",
       "      'S3Input': {'S3Uri': 's3://sagemaker-eu-west-1-AWS_ACCOUNT_ID/agentic-assistant-data-processing/code/ef2f8dbf6c1c58080b9ce991f1318fd8/runproc.sh',\n",
       "       'LocalPath': '/opt/ml/processing/input/entrypoint',\n",
       "       'S3DataType': 'S3Prefix',\n",
       "       'S3InputMode': 'File',\n",
       "       'S3DataDistributionType': 'FullyReplicated',\n",
       "       'S3CompressionType': 'None'}}],\n",
       "    'Environment': {'SQL_DB_SECRET_ID': 'arn:aws:secretsmanager:eu-west-1:AWS_ACCOUNT_ID:secret:AssistantBackendStackAgentD-HnibU4OzsGJS-6UcohO',\n",
       "     'AWS_DEFAULT_REGION': 'eu-west-1'},\n",
       "    'NetworkConfig': {'EnableNetworkIsolation': False,\n",
       "     'VpcConfig': {'SecurityGroupIds': ['sg-0bb75138650e768fc'],\n",
       "      'Subnets': ['subnet-0d84e0f156843d350', 'subnet-0c87d06716f38bba5']}}}},\n",
       "  {'Name': 'LoadEntitiesToSQLTable',\n",
       "   'Type': 'Processing',\n",
       "   'Arguments': {'ProcessingResources': {'ClusterConfig': {'InstanceType': 'ml.m5.large',\n",
       "      'InstanceCount': 1,\n",
       "      'VolumeSizeInGB': 30}},\n",
       "    'AppSpecification': {'ImageUri': '141502667606.dkr.ecr.eu-west-1.amazonaws.com/sagemaker-xgboost:1.7-1',\n",
       "     'ContainerEntrypoint': ['/bin/bash',\n",
       "      '/opt/ml/processing/input/entrypoint/runproc.sh']},\n",
       "    'RoleArn': 'arn:aws:iam::AWS_ACCOUNT_ID:role/service-role/AmazonSageMaker-ExecutionRole-20240131T120658',\n",
       "    'ProcessingInputs': [{'InputName': 'sqltables',\n",
       "      'AppManaged': False,\n",
       "      'S3Input': {'S3Uri': 's3://assistantbackendstack-agentdatabucket67afdfb9-pqa1faq3bool/structured_metadata',\n",
       "       'LocalPath': '/opt/ml/processing/input/sqltables',\n",
       "       'S3DataType': 'S3Prefix',\n",
       "       'S3InputMode': 'File',\n",
       "       'S3DataDistributionType': 'FullyReplicated',\n",
       "       'S3CompressionType': 'None'}},\n",
       "     {'InputName': 'code',\n",
       "      'AppManaged': False,\n",
       "      'S3Input': {'S3Uri': 's3://sagemaker-eu-west-1-AWS_ACCOUNT_ID/agentic-assistant-data-processing/code/9467369aa148a44f332dd981afda32de/sourcedir.tar.gz',\n",
       "       'LocalPath': '/opt/ml/processing/input/code/',\n",
       "       'S3DataType': 'S3Prefix',\n",
       "       'S3InputMode': 'File',\n",
       "       'S3DataDistributionType': 'FullyReplicated',\n",
       "       'S3CompressionType': 'None'}},\n",
       "     {'InputName': 'entrypoint',\n",
       "      'AppManaged': False,\n",
       "      'S3Input': {'S3Uri': 's3://sagemaker-eu-west-1-AWS_ACCOUNT_ID/agentic-assistant-data-processing/code/24c014389a99c012dd3121b9fc882ee9/runproc.sh',\n",
       "       'LocalPath': '/opt/ml/processing/input/entrypoint',\n",
       "       'S3DataType': 'S3Prefix',\n",
       "       'S3InputMode': 'File',\n",
       "       'S3DataDistributionType': 'FullyReplicated',\n",
       "       'S3CompressionType': 'None'}}],\n",
       "    'Environment': {'SQL_DB_SECRET_ID': 'arn:aws:secretsmanager:eu-west-1:AWS_ACCOUNT_ID:secret:AssistantBackendStackAgentD-HnibU4OzsGJS-6UcohO',\n",
       "     'AWS_DEFAULT_REGION': 'eu-west-1'},\n",
       "    'NetworkConfig': {'EnableNetworkIsolation': False,\n",
       "     'VpcConfig': {'SecurityGroupIds': ['sg-0bb75138650e768fc'],\n",
       "      'Subnets': ['subnet-0d84e0f156843d350', 'subnet-0c87d06716f38bba5']}}}}]}"
      ]
     },
     "execution_count": 31,
     "metadata": {},
     "output_type": "execute_result"
    }
   ],
   "source": [
    "import json\n",
    "\n",
    "\n",
    "definition = json.loads(pipeline.definition())\n",
    "definition"
   ]
  },
  {
   "cell_type": "markdown",
   "id": "959ab89c-1241-4e0e-a14a-221d5b54c65d",
   "metadata": {},
   "source": [
    "Update or insert the pipeline"
   ]
  },
  {
   "cell_type": "code",
   "execution_count": 32,
   "id": "dc817697-a5e5-4138-b87d-00de54af4be4",
   "metadata": {
    "tags": []
   },
   "outputs": [
    {
     "name": "stderr",
     "output_type": "stream",
     "text": [
      "INFO:sagemaker.processing:Uploaded scripts to s3://sagemaker-eu-west-1-AWS_ACCOUNT_ID/agentic-assistant-data-processing/code/94648ce6e344f7078372ffdc67507a25/sourcedir.tar.gz\n",
      "INFO:sagemaker.processing:runproc.sh uploaded to s3://sagemaker-eu-west-1-AWS_ACCOUNT_ID/agentic-assistant-data-processing/code/ef2f8dbf6c1c58080b9ce991f1318fd8/runproc.sh\n",
      "WARNING:sagemaker.workflow.utilities:Popping out 'ProcessingJobName' from the pipeline definition by default since it will be overridden at pipeline execution time. Please utilize the PipelineDefinitionConfig to persist this field in the pipeline definition if desired.\n",
      "INFO:sagemaker.processing:Uploaded scripts to s3://sagemaker-eu-west-1-AWS_ACCOUNT_ID/agentic-assistant-data-processing/code/9467369aa148a44f332dd981afda32de/sourcedir.tar.gz\n"
     ]
    },
    {
     "name": "stdout",
     "output_type": "stream",
     "text": [
      "Using provided s3_resource\n",
      "Using provided s3_resource\n"
     ]
    },
    {
     "name": "stderr",
     "output_type": "stream",
     "text": [
      "INFO:sagemaker.processing:runproc.sh uploaded to s3://sagemaker-eu-west-1-AWS_ACCOUNT_ID/agentic-assistant-data-processing/code/24c014389a99c012dd3121b9fc882ee9/runproc.sh\n",
      "WARNING:sagemaker.workflow.utilities:Popping out 'ProcessingJobName' from the pipeline definition by default since it will be overridden at pipeline execution time. Please utilize the PipelineDefinitionConfig to persist this field in the pipeline definition if desired.\n",
      "INFO:sagemaker.processing:Uploaded scripts to s3://sagemaker-eu-west-1-AWS_ACCOUNT_ID/agentic-assistant-data-processing/code/94648ce6e344f7078372ffdc67507a25/sourcedir.tar.gz\n",
      "INFO:sagemaker.processing:runproc.sh uploaded to s3://sagemaker-eu-west-1-AWS_ACCOUNT_ID/agentic-assistant-data-processing/code/ef2f8dbf6c1c58080b9ce991f1318fd8/runproc.sh\n",
      "WARNING:sagemaker.workflow.utilities:Popping out 'ProcessingJobName' from the pipeline definition by default since it will be overridden at pipeline execution time. Please utilize the PipelineDefinitionConfig to persist this field in the pipeline definition if desired.\n",
      "INFO:sagemaker.processing:Uploaded scripts to s3://sagemaker-eu-west-1-AWS_ACCOUNT_ID/agentic-assistant-data-processing/code/9467369aa148a44f332dd981afda32de/sourcedir.tar.gz\n",
      "INFO:sagemaker.processing:runproc.sh uploaded to s3://sagemaker-eu-west-1-AWS_ACCOUNT_ID/agentic-assistant-data-processing/code/24c014389a99c012dd3121b9fc882ee9/runproc.sh\n"
     ]
    },
    {
     "name": "stdout",
     "output_type": "stream",
     "text": [
      "Using provided s3_resource\n",
      "Using provided s3_resource\n"
     ]
    },
    {
     "name": "stderr",
     "output_type": "stream",
     "text": [
      "WARNING:sagemaker.workflow.utilities:Popping out 'ProcessingJobName' from the pipeline definition by default since it will be overridden at pipeline execution time. Please utilize the PipelineDefinitionConfig to persist this field in the pipeline definition if desired.\n"
     ]
    },
    {
     "data": {
      "text/plain": [
       "{'PipelineArn': 'arn:aws:sagemaker:eu-west-1:AWS_ACCOUNT_ID:pipeline/agentic-assistant-data-processing',\n",
       " 'ResponseMetadata': {'RequestId': '6f71177b-2896-402d-af54-d1cc8ac16564',\n",
       "  'HTTPStatusCode': 200,\n",
       "  'HTTPHeaders': {'x-amzn-requestid': '6f71177b-2896-402d-af54-d1cc8ac16564',\n",
       "   'content-type': 'application/x-amz-json-1.1',\n",
       "   'content-length': '101',\n",
       "   'date': 'Sat, 16 Mar 2024 12:46:19 GMT'},\n",
       "  'RetryAttempts': 0}}"
      ]
     },
     "execution_count": 32,
     "metadata": {},
     "output_type": "execute_result"
    }
   ],
   "source": [
    "pipeline.upsert(role_arn=role)"
   ]
  },
  {
   "cell_type": "markdown",
   "id": "19e5b5db-99ef-470a-bbca-f2599134d7fd",
   "metadata": {},
   "source": [
    "Start the pipeline execution"
   ]
  },
  {
   "cell_type": "code",
   "execution_count": 33,
   "id": "726be7c3-84b4-42d6-979d-d37792924e5c",
   "metadata": {
    "tags": []
   },
   "outputs": [],
   "source": [
    "execution = pipeline.start()"
   ]
  },
  {
   "cell_type": "markdown",
   "id": "3ecff59f-9112-4c93-8300-35ceacf48155",
   "metadata": {},
   "source": [
    "Monitor the pipeline execution."
   ]
  },
  {
   "cell_type": "code",
   "execution_count": 34,
   "id": "13479e8c-1c7b-4822-81c6-1ccc28499140",
   "metadata": {
    "tags": []
   },
   "outputs": [
    {
     "data": {
      "text/plain": [
       "{'PipelineArn': 'arn:aws:sagemaker:eu-west-1:AWS_ACCOUNT_ID:pipeline/agentic-assistant-data-processing',\n",
       " 'PipelineExecutionArn': 'arn:aws:sagemaker:eu-west-1:AWS_ACCOUNT_ID:pipeline/agentic-assistant-data-processing/execution/p4ebbwo6w1qa',\n",
       " 'PipelineExecutionDisplayName': 'execution-1710593187781',\n",
       " 'PipelineExecutionStatus': 'Executing',\n",
       " 'PipelineExperimentConfig': {'ExperimentName': 'agentic-assistant-data-processing',\n",
       "  'TrialName': 'p4ebbwo6w1qa'},\n",
       " 'CreationTime': datetime.datetime(2024, 3, 16, 12, 46, 27, 722000, tzinfo=tzlocal()),\n",
       " 'LastModifiedTime': datetime.datetime(2024, 3, 16, 12, 46, 27, 722000, tzinfo=tzlocal()),\n",
       " 'CreatedBy': {'UserProfileArn': 'arn:aws:sagemaker:eu-west-1:AWS_ACCOUNT_ID:user-profile/d-qv9xqffdqndh/default-20240131t120657',\n",
       "  'UserProfileName': 'default-20240131t120657',\n",
       "  'DomainId': 'd-qv9xqffdqndh',\n",
       "  'IamIdentity': {'Arn': 'arn:aws:sts::AWS_ACCOUNT_ID:assumed-role/AmazonSageMaker-ExecutionRole-20240131T120658/SageMaker',\n",
       "   'PrincipalId': 'AROAZBD2BKPVEYJ5KMEPP:SageMaker'}},\n",
       " 'LastModifiedBy': {'UserProfileArn': 'arn:aws:sagemaker:eu-west-1:AWS_ACCOUNT_ID:user-profile/d-qv9xqffdqndh/default-20240131t120657',\n",
       "  'UserProfileName': 'default-20240131t120657',\n",
       "  'DomainId': 'd-qv9xqffdqndh',\n",
       "  'IamIdentity': {'Arn': 'arn:aws:sts::AWS_ACCOUNT_ID:assumed-role/AmazonSageMaker-ExecutionRole-20240131T120658/SageMaker',\n",
       "   'PrincipalId': 'AROAZBD2BKPVEYJ5KMEPP:SageMaker'}},\n",
       " 'ResponseMetadata': {'RequestId': '85c22863-ce20-40d6-a513-b7c7bcb841f9',\n",
       "  'HTTPStatusCode': 200,\n",
       "  'HTTPHeaders': {'x-amzn-requestid': '85c22863-ce20-40d6-a513-b7c7bcb841f9',\n",
       "   'content-type': 'application/x-amz-json-1.1',\n",
       "   'content-length': '1240',\n",
       "   'date': 'Sat, 16 Mar 2024 12:46:28 GMT'},\n",
       "  'RetryAttempts': 0}}"
      ]
     },
     "execution_count": 34,
     "metadata": {},
     "output_type": "execute_result"
    }
   ],
   "source": [
    "execution.describe()"
   ]
  },
  {
   "cell_type": "code",
   "execution_count": 35,
   "id": "af813603-8d7b-46d0-af6f-5b556e0e3a22",
   "metadata": {
    "tags": []
   },
   "outputs": [
    {
     "data": {
      "text/plain": [
       "[{'StepName': 'LoadEntitiesToSQLTable',\n",
       "  'StartTime': datetime.datetime(2024, 3, 16, 12, 46, 29, 190000, tzinfo=tzlocal()),\n",
       "  'StepStatus': 'Executing',\n",
       "  'AttemptCount': 1,\n",
       "  'Metadata': {'ProcessingJob': {'Arn': 'arn:aws:sagemaker:eu-west-1:AWS_ACCOUNT_ID:processing-job/pipelines-p4ebbwo6w1qa-LoadEntitiesToSQLTab-RSxpIMTKPw'}}},\n",
       " {'StepName': 'EmbeddingCreationAndIndexing',\n",
       "  'StartTime': datetime.datetime(2024, 3, 16, 12, 46, 29, 190000, tzinfo=tzlocal()),\n",
       "  'StepStatus': 'Executing',\n",
       "  'AttemptCount': 1,\n",
       "  'Metadata': {'ProcessingJob': {'Arn': 'arn:aws:sagemaker:eu-west-1:AWS_ACCOUNT_ID:processing-job/pipelines-p4ebbwo6w1qa-EmbeddingCreationAnd-Be3C8o4fyD'}}}]"
      ]
     },
     "execution_count": 35,
     "metadata": {},
     "output_type": "execute_result"
    }
   ],
   "source": [
    "execution.list_steps()"
   ]
  }
 ],
 "metadata": {
  "availableInstances": [
   {
    "_defaultOrder": 0,
    "_isFastLaunch": true,
    "category": "General purpose",
    "gpuNum": 0,
    "hideHardwareSpecs": false,
    "memoryGiB": 4,
    "name": "ml.t3.medium",
    "vcpuNum": 2
   },
   {
    "_defaultOrder": 1,
    "_isFastLaunch": false,
    "category": "General purpose",
    "gpuNum": 0,
    "hideHardwareSpecs": false,
    "memoryGiB": 8,
    "name": "ml.t3.large",
    "vcpuNum": 2
   },
   {
    "_defaultOrder": 2,
    "_isFastLaunch": false,
    "category": "General purpose",
    "gpuNum": 0,
    "hideHardwareSpecs": false,
    "memoryGiB": 16,
    "name": "ml.t3.xlarge",
    "vcpuNum": 4
   },
   {
    "_defaultOrder": 3,
    "_isFastLaunch": false,
    "category": "General purpose",
    "gpuNum": 0,
    "hideHardwareSpecs": false,
    "memoryGiB": 32,
    "name": "ml.t3.2xlarge",
    "vcpuNum": 8
   },
   {
    "_defaultOrder": 4,
    "_isFastLaunch": true,
    "category": "General purpose",
    "gpuNum": 0,
    "hideHardwareSpecs": false,
    "memoryGiB": 8,
    "name": "ml.m5.large",
    "vcpuNum": 2
   },
   {
    "_defaultOrder": 5,
    "_isFastLaunch": false,
    "category": "General purpose",
    "gpuNum": 0,
    "hideHardwareSpecs": false,
    "memoryGiB": 16,
    "name": "ml.m5.xlarge",
    "vcpuNum": 4
   },
   {
    "_defaultOrder": 6,
    "_isFastLaunch": false,
    "category": "General purpose",
    "gpuNum": 0,
    "hideHardwareSpecs": false,
    "memoryGiB": 32,
    "name": "ml.m5.2xlarge",
    "vcpuNum": 8
   },
   {
    "_defaultOrder": 7,
    "_isFastLaunch": false,
    "category": "General purpose",
    "gpuNum": 0,
    "hideHardwareSpecs": false,
    "memoryGiB": 64,
    "name": "ml.m5.4xlarge",
    "vcpuNum": 16
   },
   {
    "_defaultOrder": 8,
    "_isFastLaunch": false,
    "category": "General purpose",
    "gpuNum": 0,
    "hideHardwareSpecs": false,
    "memoryGiB": 128,
    "name": "ml.m5.8xlarge",
    "vcpuNum": 32
   },
   {
    "_defaultOrder": 9,
    "_isFastLaunch": false,
    "category": "General purpose",
    "gpuNum": 0,
    "hideHardwareSpecs": false,
    "memoryGiB": 192,
    "name": "ml.m5.12xlarge",
    "vcpuNum": 48
   },
   {
    "_defaultOrder": 10,
    "_isFastLaunch": false,
    "category": "General purpose",
    "gpuNum": 0,
    "hideHardwareSpecs": false,
    "memoryGiB": 256,
    "name": "ml.m5.16xlarge",
    "vcpuNum": 64
   },
   {
    "_defaultOrder": 11,
    "_isFastLaunch": false,
    "category": "General purpose",
    "gpuNum": 0,
    "hideHardwareSpecs": false,
    "memoryGiB": 384,
    "name": "ml.m5.24xlarge",
    "vcpuNum": 96
   },
   {
    "_defaultOrder": 12,
    "_isFastLaunch": false,
    "category": "General purpose",
    "gpuNum": 0,
    "hideHardwareSpecs": false,
    "memoryGiB": 8,
    "name": "ml.m5d.large",
    "vcpuNum": 2
   },
   {
    "_defaultOrder": 13,
    "_isFastLaunch": false,
    "category": "General purpose",
    "gpuNum": 0,
    "hideHardwareSpecs": false,
    "memoryGiB": 16,
    "name": "ml.m5d.xlarge",
    "vcpuNum": 4
   },
   {
    "_defaultOrder": 14,
    "_isFastLaunch": false,
    "category": "General purpose",
    "gpuNum": 0,
    "hideHardwareSpecs": false,
    "memoryGiB": 32,
    "name": "ml.m5d.2xlarge",
    "vcpuNum": 8
   },
   {
    "_defaultOrder": 15,
    "_isFastLaunch": false,
    "category": "General purpose",
    "gpuNum": 0,
    "hideHardwareSpecs": false,
    "memoryGiB": 64,
    "name": "ml.m5d.4xlarge",
    "vcpuNum": 16
   },
   {
    "_defaultOrder": 16,
    "_isFastLaunch": false,
    "category": "General purpose",
    "gpuNum": 0,
    "hideHardwareSpecs": false,
    "memoryGiB": 128,
    "name": "ml.m5d.8xlarge",
    "vcpuNum": 32
   },
   {
    "_defaultOrder": 17,
    "_isFastLaunch": false,
    "category": "General purpose",
    "gpuNum": 0,
    "hideHardwareSpecs": false,
    "memoryGiB": 192,
    "name": "ml.m5d.12xlarge",
    "vcpuNum": 48
   },
   {
    "_defaultOrder": 18,
    "_isFastLaunch": false,
    "category": "General purpose",
    "gpuNum": 0,
    "hideHardwareSpecs": false,
    "memoryGiB": 256,
    "name": "ml.m5d.16xlarge",
    "vcpuNum": 64
   },
   {
    "_defaultOrder": 19,
    "_isFastLaunch": false,
    "category": "General purpose",
    "gpuNum": 0,
    "hideHardwareSpecs": false,
    "memoryGiB": 384,
    "name": "ml.m5d.24xlarge",
    "vcpuNum": 96
   },
   {
    "_defaultOrder": 20,
    "_isFastLaunch": false,
    "category": "General purpose",
    "gpuNum": 0,
    "hideHardwareSpecs": true,
    "memoryGiB": 0,
    "name": "ml.geospatial.interactive",
    "supportedImageNames": [
     "sagemaker-geospatial-v1-0"
    ],
    "vcpuNum": 0
   },
   {
    "_defaultOrder": 21,
    "_isFastLaunch": true,
    "category": "Compute optimized",
    "gpuNum": 0,
    "hideHardwareSpecs": false,
    "memoryGiB": 4,
    "name": "ml.c5.large",
    "vcpuNum": 2
   },
   {
    "_defaultOrder": 22,
    "_isFastLaunch": false,
    "category": "Compute optimized",
    "gpuNum": 0,
    "hideHardwareSpecs": false,
    "memoryGiB": 8,
    "name": "ml.c5.xlarge",
    "vcpuNum": 4
   },
   {
    "_defaultOrder": 23,
    "_isFastLaunch": false,
    "category": "Compute optimized",
    "gpuNum": 0,
    "hideHardwareSpecs": false,
    "memoryGiB": 16,
    "name": "ml.c5.2xlarge",
    "vcpuNum": 8
   },
   {
    "_defaultOrder": 24,
    "_isFastLaunch": false,
    "category": "Compute optimized",
    "gpuNum": 0,
    "hideHardwareSpecs": false,
    "memoryGiB": 32,
    "name": "ml.c5.4xlarge",
    "vcpuNum": 16
   },
   {
    "_defaultOrder": 25,
    "_isFastLaunch": false,
    "category": "Compute optimized",
    "gpuNum": 0,
    "hideHardwareSpecs": false,
    "memoryGiB": 72,
    "name": "ml.c5.9xlarge",
    "vcpuNum": 36
   },
   {
    "_defaultOrder": 26,
    "_isFastLaunch": false,
    "category": "Compute optimized",
    "gpuNum": 0,
    "hideHardwareSpecs": false,
    "memoryGiB": 96,
    "name": "ml.c5.12xlarge",
    "vcpuNum": 48
   },
   {
    "_defaultOrder": 27,
    "_isFastLaunch": false,
    "category": "Compute optimized",
    "gpuNum": 0,
    "hideHardwareSpecs": false,
    "memoryGiB": 144,
    "name": "ml.c5.18xlarge",
    "vcpuNum": 72
   },
   {
    "_defaultOrder": 28,
    "_isFastLaunch": false,
    "category": "Compute optimized",
    "gpuNum": 0,
    "hideHardwareSpecs": false,
    "memoryGiB": 192,
    "name": "ml.c5.24xlarge",
    "vcpuNum": 96
   },
   {
    "_defaultOrder": 29,
    "_isFastLaunch": true,
    "category": "Accelerated computing",
    "gpuNum": 1,
    "hideHardwareSpecs": false,
    "memoryGiB": 16,
    "name": "ml.g4dn.xlarge",
    "vcpuNum": 4
   },
   {
    "_defaultOrder": 30,
    "_isFastLaunch": false,
    "category": "Accelerated computing",
    "gpuNum": 1,
    "hideHardwareSpecs": false,
    "memoryGiB": 32,
    "name": "ml.g4dn.2xlarge",
    "vcpuNum": 8
   },
   {
    "_defaultOrder": 31,
    "_isFastLaunch": false,
    "category": "Accelerated computing",
    "gpuNum": 1,
    "hideHardwareSpecs": false,
    "memoryGiB": 64,
    "name": "ml.g4dn.4xlarge",
    "vcpuNum": 16
   },
   {
    "_defaultOrder": 32,
    "_isFastLaunch": false,
    "category": "Accelerated computing",
    "gpuNum": 1,
    "hideHardwareSpecs": false,
    "memoryGiB": 128,
    "name": "ml.g4dn.8xlarge",
    "vcpuNum": 32
   },
   {
    "_defaultOrder": 33,
    "_isFastLaunch": false,
    "category": "Accelerated computing",
    "gpuNum": 4,
    "hideHardwareSpecs": false,
    "memoryGiB": 192,
    "name": "ml.g4dn.12xlarge",
    "vcpuNum": 48
   },
   {
    "_defaultOrder": 34,
    "_isFastLaunch": false,
    "category": "Accelerated computing",
    "gpuNum": 1,
    "hideHardwareSpecs": false,
    "memoryGiB": 256,
    "name": "ml.g4dn.16xlarge",
    "vcpuNum": 64
   },
   {
    "_defaultOrder": 35,
    "_isFastLaunch": false,
    "category": "Accelerated computing",
    "gpuNum": 1,
    "hideHardwareSpecs": false,
    "memoryGiB": 61,
    "name": "ml.p3.2xlarge",
    "vcpuNum": 8
   },
   {
    "_defaultOrder": 36,
    "_isFastLaunch": false,
    "category": "Accelerated computing",
    "gpuNum": 4,
    "hideHardwareSpecs": false,
    "memoryGiB": 244,
    "name": "ml.p3.8xlarge",
    "vcpuNum": 32
   },
   {
    "_defaultOrder": 37,
    "_isFastLaunch": false,
    "category": "Accelerated computing",
    "gpuNum": 8,
    "hideHardwareSpecs": false,
    "memoryGiB": 488,
    "name": "ml.p3.16xlarge",
    "vcpuNum": 64
   },
   {
    "_defaultOrder": 38,
    "_isFastLaunch": false,
    "category": "Accelerated computing",
    "gpuNum": 8,
    "hideHardwareSpecs": false,
    "memoryGiB": 768,
    "name": "ml.p3dn.24xlarge",
    "vcpuNum": 96
   },
   {
    "_defaultOrder": 39,
    "_isFastLaunch": false,
    "category": "Memory Optimized",
    "gpuNum": 0,
    "hideHardwareSpecs": false,
    "memoryGiB": 16,
    "name": "ml.r5.large",
    "vcpuNum": 2
   },
   {
    "_defaultOrder": 40,
    "_isFastLaunch": false,
    "category": "Memory Optimized",
    "gpuNum": 0,
    "hideHardwareSpecs": false,
    "memoryGiB": 32,
    "name": "ml.r5.xlarge",
    "vcpuNum": 4
   },
   {
    "_defaultOrder": 41,
    "_isFastLaunch": false,
    "category": "Memory Optimized",
    "gpuNum": 0,
    "hideHardwareSpecs": false,
    "memoryGiB": 64,
    "name": "ml.r5.2xlarge",
    "vcpuNum": 8
   },
   {
    "_defaultOrder": 42,
    "_isFastLaunch": false,
    "category": "Memory Optimized",
    "gpuNum": 0,
    "hideHardwareSpecs": false,
    "memoryGiB": 128,
    "name": "ml.r5.4xlarge",
    "vcpuNum": 16
   },
   {
    "_defaultOrder": 43,
    "_isFastLaunch": false,
    "category": "Memory Optimized",
    "gpuNum": 0,
    "hideHardwareSpecs": false,
    "memoryGiB": 256,
    "name": "ml.r5.8xlarge",
    "vcpuNum": 32
   },
   {
    "_defaultOrder": 44,
    "_isFastLaunch": false,
    "category": "Memory Optimized",
    "gpuNum": 0,
    "hideHardwareSpecs": false,
    "memoryGiB": 384,
    "name": "ml.r5.12xlarge",
    "vcpuNum": 48
   },
   {
    "_defaultOrder": 45,
    "_isFastLaunch": false,
    "category": "Memory Optimized",
    "gpuNum": 0,
    "hideHardwareSpecs": false,
    "memoryGiB": 512,
    "name": "ml.r5.16xlarge",
    "vcpuNum": 64
   },
   {
    "_defaultOrder": 46,
    "_isFastLaunch": false,
    "category": "Memory Optimized",
    "gpuNum": 0,
    "hideHardwareSpecs": false,
    "memoryGiB": 768,
    "name": "ml.r5.24xlarge",
    "vcpuNum": 96
   },
   {
    "_defaultOrder": 47,
    "_isFastLaunch": false,
    "category": "Accelerated computing",
    "gpuNum": 1,
    "hideHardwareSpecs": false,
    "memoryGiB": 16,
    "name": "ml.g5.xlarge",
    "vcpuNum": 4
   },
   {
    "_defaultOrder": 48,
    "_isFastLaunch": false,
    "category": "Accelerated computing",
    "gpuNum": 1,
    "hideHardwareSpecs": false,
    "memoryGiB": 32,
    "name": "ml.g5.2xlarge",
    "vcpuNum": 8
   },
   {
    "_defaultOrder": 49,
    "_isFastLaunch": false,
    "category": "Accelerated computing",
    "gpuNum": 1,
    "hideHardwareSpecs": false,
    "memoryGiB": 64,
    "name": "ml.g5.4xlarge",
    "vcpuNum": 16
   },
   {
    "_defaultOrder": 50,
    "_isFastLaunch": false,
    "category": "Accelerated computing",
    "gpuNum": 1,
    "hideHardwareSpecs": false,
    "memoryGiB": 128,
    "name": "ml.g5.8xlarge",
    "vcpuNum": 32
   },
   {
    "_defaultOrder": 51,
    "_isFastLaunch": false,
    "category": "Accelerated computing",
    "gpuNum": 1,
    "hideHardwareSpecs": false,
    "memoryGiB": 256,
    "name": "ml.g5.16xlarge",
    "vcpuNum": 64
   },
   {
    "_defaultOrder": 52,
    "_isFastLaunch": false,
    "category": "Accelerated computing",
    "gpuNum": 4,
    "hideHardwareSpecs": false,
    "memoryGiB": 192,
    "name": "ml.g5.12xlarge",
    "vcpuNum": 48
   },
   {
    "_defaultOrder": 53,
    "_isFastLaunch": false,
    "category": "Accelerated computing",
    "gpuNum": 4,
    "hideHardwareSpecs": false,
    "memoryGiB": 384,
    "name": "ml.g5.24xlarge",
    "vcpuNum": 96
   },
   {
    "_defaultOrder": 54,
    "_isFastLaunch": false,
    "category": "Accelerated computing",
    "gpuNum": 8,
    "hideHardwareSpecs": false,
    "memoryGiB": 768,
    "name": "ml.g5.48xlarge",
    "vcpuNum": 192
   },
   {
    "_defaultOrder": 55,
    "_isFastLaunch": false,
    "category": "Accelerated computing",
    "gpuNum": 8,
    "hideHardwareSpecs": false,
    "memoryGiB": 1152,
    "name": "ml.p4d.24xlarge",
    "vcpuNum": 96
   },
   {
    "_defaultOrder": 56,
    "_isFastLaunch": false,
    "category": "Accelerated computing",
    "gpuNum": 8,
    "hideHardwareSpecs": false,
    "memoryGiB": 1152,
    "name": "ml.p4de.24xlarge",
    "vcpuNum": 96
   }
  ],
  "instance_type": "ml.t3.medium",
  "kernelspec": {
   "display_name": "Python 3 (ipykernel)",
   "language": "python",
   "name": "python3"
  },
  "language_info": {
   "codemirror_mode": {
    "name": "ipython",
    "version": 3
   },
   "file_extension": ".py",
   "mimetype": "text/x-python",
   "name": "python",
   "nbconvert_exporter": "python",
   "pygments_lexer": "ipython3",
   "version": "3.10.13"
  }
 },
 "nbformat": 4,
 "nbformat_minor": 5
}
