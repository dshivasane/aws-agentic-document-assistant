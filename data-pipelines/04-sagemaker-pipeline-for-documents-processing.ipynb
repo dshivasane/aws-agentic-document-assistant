{
 "cells": [
  {
   "cell_type": "markdown",
   "id": "c62aa787-4366-4d8b-97cc-5d4b45101118",
   "metadata": {},
   "source": [
    "# 04 - Amazon SageMaker jobs and pipeline for documents processing"
   ]
  },
  {
   "cell_type": "code",
   "execution_count": null,
   "id": "3419dd46-018d-47a7-9f0c-3c9375f41bf7",
   "metadata": {},
   "outputs": [],
   "source": [
    "import sys\n",
    "import boto3\n",
    "import sagemaker\n",
    "from sagemaker.workflow.pipeline_context import PipelineSession\n",
    "\n",
    "sagemaker_session = sagemaker.session.Session()\n",
    "region = sagemaker_session.boto_region_name\n",
    "role = sagemaker.get_execution_role()\n",
    "pipeline_session = PipelineSession()"
   ]
  },
  {
   "cell_type": "code",
   "execution_count": null,
   "id": "00935a28-dc83-4848-83f9-6b6b84205934",
   "metadata": {},
   "outputs": [],
   "source": [
    "import json\n",
    "\n",
    "ssm = boto3.client(\"ssm\")\n",
    "secretsmanager = boto3.client(\"secretsmanager\")\n",
    "region = boto3.session.Session().region_name"
   ]
  },
  {
   "cell_type": "code",
   "execution_count": null,
   "id": "90f427bd-e0da-4a2f-9687-f2b1bc5f4595",
   "metadata": {},
   "outputs": [],
   "source": [
    "security_group_parameter = \"/AgenticLLMAssistant/SMProcessingJobSecurityGroupId\"\n",
    "dbsecret_arn_parameter = \"/AgenticLLMAssistant/DBSecretARN\"\n",
    "subnet_ids_parameter = \"/AgenticLLMAssistant/SubnetIds\"\n",
    "s3_bucket_name_parameter = \"/AgenticLLMAssistant/AgentDataBucketParameter\"\n",
    "\n",
    "security_group = ssm.get_parameter(Name=security_group_parameter)\n",
    "security_group = security_group[\"Parameter\"][\"Value\"]\n",
    "\n",
    "db_secret_arn = ssm.get_parameter(Name=dbsecret_arn_parameter)\n",
    "db_secret_arn = db_secret_arn[\"Parameter\"][\"Value\"]\n",
    "\n",
    "subnet_ids = ssm.get_parameter(Name=subnet_ids_parameter)\n",
    "public_subnets_ids = json.loads(subnet_ids[\"Parameter\"][\"Value\"])\n",
    "\n",
    "s3_bucket_name = ssm.get_parameter(Name=s3_bucket_name_parameter)\n",
    "s3_bucket_name = s3_bucket_name[\"Parameter\"][\"Value\"]"
   ]
  },
  {
   "cell_type": "code",
   "execution_count": null,
   "id": "ae33151d-833a-4edb-a5fa-b23fcfe6370f",
   "metadata": {},
   "outputs": [],
   "source": [
    "processed_documents_s3_key = \"documents_processed.json\"\n",
    "sql_tables_s3_key = \"structured_metadata\""
   ]
  },
  {
   "cell_type": "code",
   "execution_count": null,
   "id": "46368636-c2f6-41e0-b12d-ee1c9dbee58c",
   "metadata": {},
   "outputs": [],
   "source": [
    "import boto3\n",
    "import botocore\n",
    "\n",
    "s3 = boto3.client('s3')\n",
    "\n",
    "def upload_file_to_s3_if_doesnt_exist(file_path, bucket_name, s3_file_key):\n",
    "    try:\n",
    "        s3.head_object(Bucket=bucket_name, Key=s3_file_key)\n",
    "        print(f\"File '{s3_file_key}' already exists in bucket '{bucket_name}'\")\n",
    "    except botocore.exceptions.ClientError as e:\n",
    "        if e.response['Error']['Code'] == '404':\n",
    "            try:\n",
    "                s3.upload_file(file_path, bucket_name, s3_file_key)\n",
    "                print(f\"File '{s3_file_key}' uploaded to bucket '{bucket_name}'\")\n",
    "            except botocore.exceptions.ClientError as e:\n",
    "                print(f\"Error uploading file: {e}\")\n",
    "        else:\n",
    "            print(f\"Error occurred: {e}\")"
   ]
  },
  {
   "cell_type": "code",
   "execution_count": null,
   "id": "318c59fb-e927-4875-a9e0-494a22211686",
   "metadata": {},
   "outputs": [],
   "source": [
    "file_path = \"data/documents_processed.json\"\n",
    "s3_file_key = processed_documents_s3_key\n",
    "upload_file_to_s3_if_doesnt_exist(file_path, s3_bucket_name, s3_file_key)"
   ]
  },
  {
   "cell_type": "code",
   "execution_count": null,
   "id": "9d897f8d-1169-413f-9e50-2fb78a643541",
   "metadata": {},
   "outputs": [],
   "source": [
    "file_path = \"data/extracted_entities.csv\"\n",
    "s3_file_key = f\"{sql_tables_s3_key}/extracted_entities.csv\"\n",
    "upload_file_to_s3_if_doesnt_exist(file_path, s3_bucket_name, s3_file_key)"
   ]
  },
  {
   "cell_type": "code",
   "execution_count": null,
   "id": "9f6f2f09-c262-41e0-bff5-4d0234488d1c",
   "metadata": {},
   "outputs": [],
   "source": [
    "from sagemaker.network import NetworkConfig\n",
    "\n",
    "current_network_config = NetworkConfig(\n",
    "    subnets=public_subnets_ids, security_group_ids=[security_group]\n",
    ")"
   ]
  },
  {
   "cell_type": "code",
   "execution_count": null,
   "id": "72a8d4ab-5a48-49a5-b3f0-a65e2f16daed",
   "metadata": {},
   "outputs": [],
   "source": [
    "from sagemaker.xgboost import XGBoostProcessor\n",
    "from sagemaker.processing import ProcessingInput, ProcessingOutput\n",
    "from sagemaker import get_execution_role\n",
    "from sagemaker.workflow.steps import ProcessingStep\n",
    "\n",
    "embeddings_and_index_job = XGBoostProcessor(\n",
    "    framework_version=\"1.7-1\",\n",
    "    role=get_execution_role(),\n",
    "    instance_type=\"ml.t3.medium\",\n",
    "    instance_count=1,\n",
    "    base_job_name=\"PrepareAndLoadEmbeddingsJob\",\n",
    "    env={\n",
    "        \"SQL_DB_SECRET_ID\": db_secret_arn,\n",
    "        \"AWS_DEFAULT_REGION\": region,\n",
    "    },\n",
    "    network_config=current_network_config,\n",
    "    sagemaker_session=pipeline_session\n",
    ")\n",
    "\n",
    "embeddings_creation_and_indexing_args = embeddings_and_index_job.run(\n",
    "    code=\"prepare_and_load_embeddings.py\",\n",
    "    source_dir=\"scripts\",\n",
    "    inputs=[\n",
    "        ProcessingInput(\n",
    "            input_name=\"processed_documents\",\n",
    "            source=f\"s3://{s3_bucket_name}/{processed_documents_s3_key}\",\n",
    "            destination=\"/opt/ml/processing/input/processed_documents\",\n",
    "        )\n",
    "    ],\n",
    ")\n",
    "\n",
    "embeddings_creation_and_indexing_step = ProcessingStep(\n",
    "    name=\"EmbeddingCreationAndIndexing\",\n",
    "    step_args=embeddings_creation_and_indexing_args\n",
    ")"
   ]
  },
  {
   "cell_type": "code",
   "execution_count": null,
   "id": "d32e7e37-1ed2-49d8-a23d-8b3a8268668a",
   "metadata": {},
   "outputs": [],
   "source": [
    "entities_to_sql = XGBoostProcessor(\n",
    "    framework_version=\"1.7-1\",\n",
    "    role=get_execution_role(),\n",
    "    instance_type=\"ml.t3.medium\",\n",
    "    instance_count=1,\n",
    "    base_job_name=\"LoadEntitiesToSQLTableJob\",\n",
    "    env={\"SQL_DB_SECRET_ID\": db_secret_arn, \"AWS_DEFAULT_REGION\": region},\n",
    "    network_config=current_network_config,\n",
    "    sagemaker_session=pipeline_session,\n",
    ")\n",
    "\n",
    "load_entities_to_sql_table_args = entities_to_sql.run(\n",
    "    code=\"load_sql_tables.py\",\n",
    "    source_dir=\"scripts\",\n",
    "    inputs=[\n",
    "        ProcessingInput(\n",
    "            input_name=\"sqltables\",\n",
    "            source=f\"s3://{s3_bucket_name}/{sql_tables_s3_key}\",\n",
    "            destination=\"/opt/ml/processing/input/sqltables\",\n",
    "        )\n",
    "    ]\n",
    ")\n",
    "\n",
    "load_entities_to_sql_table_step = ProcessingStep(\n",
    "    name=\"LoadEntitiesToSQLTable\",\n",
    "    step_args=load_entities_to_sql_table_args\n",
    ")"
   ]
  },
  {
   "cell_type": "code",
   "execution_count": null,
   "id": "80008ba8-5cc4-4b30-8dd7-47221d09806a",
   "metadata": {},
   "outputs": [],
   "source": [
    "from sagemaker.workflow.pipeline import Pipeline\n",
    "\n",
    "pipeline_name = f\"agentic-assistant-data-processing\"\n",
    "pipeline = Pipeline(\n",
    "    name=pipeline_name,\n",
    "    parameters=[],\n",
    "    steps=[\n",
    "        embeddings_creation_and_indexing_step,\n",
    "        load_entities_to_sql_table_step\n",
    "    ]\n",
    ")"
   ]
  },
  {
   "cell_type": "code",
   "execution_count": null,
   "id": "dc817697-a5e5-4138-b87d-00de54af4be4",
   "metadata": {},
   "outputs": [],
   "source": [
    "pipeline.upsert(role_arn=role)"
   ]
  },
  {
   "cell_type": "code",
   "execution_count": null,
   "id": "726be7c3-84b4-42d6-979d-d37792924e5c",
   "metadata": {},
   "outputs": [],
   "source": [
    "execution = pipeline.start()"
   ]
  },
  {
   "cell_type": "code",
   "execution_count": null,
   "id": "13479e8c-1c7b-4822-81c6-1ccc28499140",
   "metadata": {},
   "outputs": [],
   "source": [
    "execution.describe()"
   ]
  },
  {
   "cell_type": "code",
   "execution_count": null,
   "id": "af813603-8d7b-46d0-af6f-5b556e0e3a22",
   "metadata": {},
   "outputs": [],
   "source": [
    "execution.list_steps()"
   ]
  }
 ],
 "metadata": {
  "kernelspec": {
   "display_name": "Python 3 (ipykernel)",
   "language": "python",
   "name": "python3"
  },
  "language_info": {
   "codemirror_mode": {
    "name": "ipython",
    "version": 3
   },
   "file_extension": ".py",
   "mimetype": "text/x-python",
   "name": "python",
   "nbconvert_exporter": "python",
   "pygments_lexer": "ipython3",
   "version": "3.10.13"
  }
 },
 "nbformat": 4,
 "nbformat_minor": 5
}